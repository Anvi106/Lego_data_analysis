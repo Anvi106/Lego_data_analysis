{
  "cells": [
    {
      "cell_type": "markdown",
      "metadata": {
        "id": "EknbOsbam4hx"
      },
      "source": [
        "# Exploratory Data Analysis using Python - A Case Study\n",
        "\n",
        "Analyzing responses from the Stack Overflow Annual Developer Survey 2020\n"
      ]
    },
    {
      "cell_type": "markdown",
      "metadata": {
        "id": "L1x3PS_Sm4h-"
      },
      "source": [
        "## Introduction\n",
        "\n",
        "Analyzed the StackOverflow developer survey dataset. The dataset contains responses to an annual survey conducted by StackOverflow. You can find the raw data & official analysis here: https://insights.stackoverflow.com/survey."
      ]
    },
    {
      "cell_type": "code",
      "execution_count": 1,
      "metadata": {
        "id": "0L9WpJeAm4iA"
      },
      "outputs": [],
      "source": [
        "import pandas as pd"
      ]
    },
    {
      "cell_type": "code",
      "execution_count": 2,
      "metadata": {
        "id": "HiaZyWrnm4iD"
      },
      "outputs": [],
      "source": [
        "survey_raw_df = pd.read_csv('survey_results_public.csv')"
      ]
    },
    {
      "cell_type": "code",
      "execution_count": 3,
      "metadata": {
        "colab": {
          "base_uri": "https://localhost:8080/",
          "height": 1000
        },
        "id": "A1JA1I5gm4iE",
        "outputId": "ea6bc4a1-9b86-4055-eb6b-50b135e909e3"
      },
      "outputs": [
        {
          "output_type": "execute_result",
          "data": {
            "text/plain": [
              "       Respondent                                         MainBranch Hobbyist  \\\n",
              "0               1                     I am a developer by profession      Yes   \n",
              "1               2                     I am a developer by profession       No   \n",
              "2               3                        I code primarily as a hobby      Yes   \n",
              "3               4                     I am a developer by profession      Yes   \n",
              "4               5  I used to be a developer by profession, but no...      Yes   \n",
              "...           ...                                                ...      ...   \n",
              "22132       22217                     I am a developer by profession      Yes   \n",
              "22133       22218                     I am a developer by profession      Yes   \n",
              "22134       22219                     I am a developer by profession       No   \n",
              "22135       22220                     I am a developer by profession      Yes   \n",
              "22136       22221                     I am a developer by profession      Yes   \n",
              "\n",
              "        Age Age1stCode CompFreq  CompTotal  ConvertedComp             Country  \\\n",
              "0       NaN         13  Monthly        NaN            NaN             Germany   \n",
              "1       NaN         19      NaN        NaN            NaN      United Kingdom   \n",
              "2       NaN         15      NaN        NaN            NaN  Russian Federation   \n",
              "3      25.0         18      NaN        NaN            NaN             Albania   \n",
              "4      31.0         16      NaN        NaN            NaN       United States   \n",
              "...     ...        ...      ...        ...            ...                 ...   \n",
              "22132  21.0         14   Yearly   700000.0         9773.0               India   \n",
              "22133   NaN         20      NaN        NaN            NaN      United Kingdom   \n",
              "22134  33.0         14   Yearly    60000.0        64859.0         Netherlands   \n",
              "22135  24.0         17   Yearly    50000.0        64630.0      United Kingdom   \n",
              "22136  38.0          9   Yearly    60000.0        64859.0             Germany   \n",
              "\n",
              "         CurrencyDesc  ...                  SurveyEase           SurveyLength  \\\n",
              "0       European Euro  ...  Neither easy nor difficult  Appropriate in length   \n",
              "1      Pound sterling  ...                         NaN                    NaN   \n",
              "2                 NaN  ...  Neither easy nor difficult  Appropriate in length   \n",
              "3        Albanian lek  ...                         NaN                    NaN   \n",
              "4                 NaN  ...                        Easy              Too short   \n",
              "...               ...  ...                         ...                    ...   \n",
              "22132    Indian rupee  ...                        Easy  Appropriate in length   \n",
              "22133  Pound sterling  ...                         NaN                    NaN   \n",
              "22134   European Euro  ...                        Easy  Appropriate in length   \n",
              "22135  Pound sterling  ...                        Easy  Appropriate in length   \n",
              "22136   European Euro  ...                         NaN                    NaN   \n",
              "\n",
              "      Trans                                     UndergradMajor  \\\n",
              "0        No  Computer science, computer engineering, or sof...   \n",
              "1       NaN  Computer science, computer engineering, or sof...   \n",
              "2       NaN                                                NaN   \n",
              "3        No  Computer science, computer engineering, or sof...   \n",
              "4        No  Computer science, computer engineering, or sof...   \n",
              "...     ...                                                ...   \n",
              "22132    No  Computer science, computer engineering, or sof...   \n",
              "22133   NaN  Computer science, computer engineering, or sof...   \n",
              "22134    No  Another engineering discipline (such as civil,...   \n",
              "22135    No  Computer science, computer engineering, or sof...   \n",
              "22136   NaN                                                NaN   \n",
              "\n",
              "               WebframeDesireNextYear    WebframeWorkedWith  \\\n",
              "0                        ASP.NET Core  ASP.NET;ASP.NET Core   \n",
              "1                                 NaN                   NaN   \n",
              "2                                 NaN                   NaN   \n",
              "3                                 NaN                   NaN   \n",
              "4                Django;Ruby on Rails         Ruby on Rails   \n",
              "...                               ...                   ...   \n",
              "22132  Express;jQuery;React.js;Vue.js        Express;jQuery   \n",
              "22133                             NaN                   NaN   \n",
              "22134                             NaN               Angular   \n",
              "22135                             NaN                   NaN   \n",
              "22136                             NaN                   NaN   \n",
              "\n",
              "                                  WelcomeChange WorkWeekHrs YearsCode  \\\n",
              "0       Just as welcome now as I felt last year        50.0        36   \n",
              "1      Somewhat more welcome now than last year         NaN         7   \n",
              "2      Somewhat more welcome now than last year         NaN         4   \n",
              "3      Somewhat less welcome now than last year        40.0         7   \n",
              "4       Just as welcome now as I felt last year         NaN        15   \n",
              "...                                         ...         ...       ...   \n",
              "22132  Somewhat more welcome now than last year        35.0         7   \n",
              "22133   Just as welcome now as I felt last year         NaN        21   \n",
              "22134   Just as welcome now as I felt last year        40.0        15   \n",
              "22135   Just as welcome now as I felt last year        40.0         8   \n",
              "22136                                       NaN         NaN       NaN   \n",
              "\n",
              "           YearsCodePro  \n",
              "0                    27  \n",
              "1                     4  \n",
              "2                   NaN  \n",
              "3                     4  \n",
              "4                     8  \n",
              "...                 ...  \n",
              "22132  Less than 1 year  \n",
              "22133                17  \n",
              "22134                10  \n",
              "22135                 2  \n",
              "22136               NaN  \n",
              "\n",
              "[22137 rows x 61 columns]"
            ],
            "text/html": [
              "\n",
              "  <div id=\"df-da888d75-7eff-4d81-adb1-773f6adfda87\">\n",
              "    <div class=\"colab-df-container\">\n",
              "      <div>\n",
              "<style scoped>\n",
              "    .dataframe tbody tr th:only-of-type {\n",
              "        vertical-align: middle;\n",
              "    }\n",
              "\n",
              "    .dataframe tbody tr th {\n",
              "        vertical-align: top;\n",
              "    }\n",
              "\n",
              "    .dataframe thead th {\n",
              "        text-align: right;\n",
              "    }\n",
              "</style>\n",
              "<table border=\"1\" class=\"dataframe\">\n",
              "  <thead>\n",
              "    <tr style=\"text-align: right;\">\n",
              "      <th></th>\n",
              "      <th>Respondent</th>\n",
              "      <th>MainBranch</th>\n",
              "      <th>Hobbyist</th>\n",
              "      <th>Age</th>\n",
              "      <th>Age1stCode</th>\n",
              "      <th>CompFreq</th>\n",
              "      <th>CompTotal</th>\n",
              "      <th>ConvertedComp</th>\n",
              "      <th>Country</th>\n",
              "      <th>CurrencyDesc</th>\n",
              "      <th>...</th>\n",
              "      <th>SurveyEase</th>\n",
              "      <th>SurveyLength</th>\n",
              "      <th>Trans</th>\n",
              "      <th>UndergradMajor</th>\n",
              "      <th>WebframeDesireNextYear</th>\n",
              "      <th>WebframeWorkedWith</th>\n",
              "      <th>WelcomeChange</th>\n",
              "      <th>WorkWeekHrs</th>\n",
              "      <th>YearsCode</th>\n",
              "      <th>YearsCodePro</th>\n",
              "    </tr>\n",
              "  </thead>\n",
              "  <tbody>\n",
              "    <tr>\n",
              "      <th>0</th>\n",
              "      <td>1</td>\n",
              "      <td>I am a developer by profession</td>\n",
              "      <td>Yes</td>\n",
              "      <td>NaN</td>\n",
              "      <td>13</td>\n",
              "      <td>Monthly</td>\n",
              "      <td>NaN</td>\n",
              "      <td>NaN</td>\n",
              "      <td>Germany</td>\n",
              "      <td>European Euro</td>\n",
              "      <td>...</td>\n",
              "      <td>Neither easy nor difficult</td>\n",
              "      <td>Appropriate in length</td>\n",
              "      <td>No</td>\n",
              "      <td>Computer science, computer engineering, or sof...</td>\n",
              "      <td>ASP.NET Core</td>\n",
              "      <td>ASP.NET;ASP.NET Core</td>\n",
              "      <td>Just as welcome now as I felt last year</td>\n",
              "      <td>50.0</td>\n",
              "      <td>36</td>\n",
              "      <td>27</td>\n",
              "    </tr>\n",
              "    <tr>\n",
              "      <th>1</th>\n",
              "      <td>2</td>\n",
              "      <td>I am a developer by profession</td>\n",
              "      <td>No</td>\n",
              "      <td>NaN</td>\n",
              "      <td>19</td>\n",
              "      <td>NaN</td>\n",
              "      <td>NaN</td>\n",
              "      <td>NaN</td>\n",
              "      <td>United Kingdom</td>\n",
              "      <td>Pound sterling</td>\n",
              "      <td>...</td>\n",
              "      <td>NaN</td>\n",
              "      <td>NaN</td>\n",
              "      <td>NaN</td>\n",
              "      <td>Computer science, computer engineering, or sof...</td>\n",
              "      <td>NaN</td>\n",
              "      <td>NaN</td>\n",
              "      <td>Somewhat more welcome now than last year</td>\n",
              "      <td>NaN</td>\n",
              "      <td>7</td>\n",
              "      <td>4</td>\n",
              "    </tr>\n",
              "    <tr>\n",
              "      <th>2</th>\n",
              "      <td>3</td>\n",
              "      <td>I code primarily as a hobby</td>\n",
              "      <td>Yes</td>\n",
              "      <td>NaN</td>\n",
              "      <td>15</td>\n",
              "      <td>NaN</td>\n",
              "      <td>NaN</td>\n",
              "      <td>NaN</td>\n",
              "      <td>Russian Federation</td>\n",
              "      <td>NaN</td>\n",
              "      <td>...</td>\n",
              "      <td>Neither easy nor difficult</td>\n",
              "      <td>Appropriate in length</td>\n",
              "      <td>NaN</td>\n",
              "      <td>NaN</td>\n",
              "      <td>NaN</td>\n",
              "      <td>NaN</td>\n",
              "      <td>Somewhat more welcome now than last year</td>\n",
              "      <td>NaN</td>\n",
              "      <td>4</td>\n",
              "      <td>NaN</td>\n",
              "    </tr>\n",
              "    <tr>\n",
              "      <th>3</th>\n",
              "      <td>4</td>\n",
              "      <td>I am a developer by profession</td>\n",
              "      <td>Yes</td>\n",
              "      <td>25.0</td>\n",
              "      <td>18</td>\n",
              "      <td>NaN</td>\n",
              "      <td>NaN</td>\n",
              "      <td>NaN</td>\n",
              "      <td>Albania</td>\n",
              "      <td>Albanian lek</td>\n",
              "      <td>...</td>\n",
              "      <td>NaN</td>\n",
              "      <td>NaN</td>\n",
              "      <td>No</td>\n",
              "      <td>Computer science, computer engineering, or sof...</td>\n",
              "      <td>NaN</td>\n",
              "      <td>NaN</td>\n",
              "      <td>Somewhat less welcome now than last year</td>\n",
              "      <td>40.0</td>\n",
              "      <td>7</td>\n",
              "      <td>4</td>\n",
              "    </tr>\n",
              "    <tr>\n",
              "      <th>4</th>\n",
              "      <td>5</td>\n",
              "      <td>I used to be a developer by profession, but no...</td>\n",
              "      <td>Yes</td>\n",
              "      <td>31.0</td>\n",
              "      <td>16</td>\n",
              "      <td>NaN</td>\n",
              "      <td>NaN</td>\n",
              "      <td>NaN</td>\n",
              "      <td>United States</td>\n",
              "      <td>NaN</td>\n",
              "      <td>...</td>\n",
              "      <td>Easy</td>\n",
              "      <td>Too short</td>\n",
              "      <td>No</td>\n",
              "      <td>Computer science, computer engineering, or sof...</td>\n",
              "      <td>Django;Ruby on Rails</td>\n",
              "      <td>Ruby on Rails</td>\n",
              "      <td>Just as welcome now as I felt last year</td>\n",
              "      <td>NaN</td>\n",
              "      <td>15</td>\n",
              "      <td>8</td>\n",
              "    </tr>\n",
              "    <tr>\n",
              "      <th>...</th>\n",
              "      <td>...</td>\n",
              "      <td>...</td>\n",
              "      <td>...</td>\n",
              "      <td>...</td>\n",
              "      <td>...</td>\n",
              "      <td>...</td>\n",
              "      <td>...</td>\n",
              "      <td>...</td>\n",
              "      <td>...</td>\n",
              "      <td>...</td>\n",
              "      <td>...</td>\n",
              "      <td>...</td>\n",
              "      <td>...</td>\n",
              "      <td>...</td>\n",
              "      <td>...</td>\n",
              "      <td>...</td>\n",
              "      <td>...</td>\n",
              "      <td>...</td>\n",
              "      <td>...</td>\n",
              "      <td>...</td>\n",
              "      <td>...</td>\n",
              "    </tr>\n",
              "    <tr>\n",
              "      <th>22132</th>\n",
              "      <td>22217</td>\n",
              "      <td>I am a developer by profession</td>\n",
              "      <td>Yes</td>\n",
              "      <td>21.0</td>\n",
              "      <td>14</td>\n",
              "      <td>Yearly</td>\n",
              "      <td>700000.0</td>\n",
              "      <td>9773.0</td>\n",
              "      <td>India</td>\n",
              "      <td>Indian rupee</td>\n",
              "      <td>...</td>\n",
              "      <td>Easy</td>\n",
              "      <td>Appropriate in length</td>\n",
              "      <td>No</td>\n",
              "      <td>Computer science, computer engineering, or sof...</td>\n",
              "      <td>Express;jQuery;React.js;Vue.js</td>\n",
              "      <td>Express;jQuery</td>\n",
              "      <td>Somewhat more welcome now than last year</td>\n",
              "      <td>35.0</td>\n",
              "      <td>7</td>\n",
              "      <td>Less than 1 year</td>\n",
              "    </tr>\n",
              "    <tr>\n",
              "      <th>22133</th>\n",
              "      <td>22218</td>\n",
              "      <td>I am a developer by profession</td>\n",
              "      <td>Yes</td>\n",
              "      <td>NaN</td>\n",
              "      <td>20</td>\n",
              "      <td>NaN</td>\n",
              "      <td>NaN</td>\n",
              "      <td>NaN</td>\n",
              "      <td>United Kingdom</td>\n",
              "      <td>Pound sterling</td>\n",
              "      <td>...</td>\n",
              "      <td>NaN</td>\n",
              "      <td>NaN</td>\n",
              "      <td>NaN</td>\n",
              "      <td>Computer science, computer engineering, or sof...</td>\n",
              "      <td>NaN</td>\n",
              "      <td>NaN</td>\n",
              "      <td>Just as welcome now as I felt last year</td>\n",
              "      <td>NaN</td>\n",
              "      <td>21</td>\n",
              "      <td>17</td>\n",
              "    </tr>\n",
              "    <tr>\n",
              "      <th>22134</th>\n",
              "      <td>22219</td>\n",
              "      <td>I am a developer by profession</td>\n",
              "      <td>No</td>\n",
              "      <td>33.0</td>\n",
              "      <td>14</td>\n",
              "      <td>Yearly</td>\n",
              "      <td>60000.0</td>\n",
              "      <td>64859.0</td>\n",
              "      <td>Netherlands</td>\n",
              "      <td>European Euro</td>\n",
              "      <td>...</td>\n",
              "      <td>Easy</td>\n",
              "      <td>Appropriate in length</td>\n",
              "      <td>No</td>\n",
              "      <td>Another engineering discipline (such as civil,...</td>\n",
              "      <td>NaN</td>\n",
              "      <td>Angular</td>\n",
              "      <td>Just as welcome now as I felt last year</td>\n",
              "      <td>40.0</td>\n",
              "      <td>15</td>\n",
              "      <td>10</td>\n",
              "    </tr>\n",
              "    <tr>\n",
              "      <th>22135</th>\n",
              "      <td>22220</td>\n",
              "      <td>I am a developer by profession</td>\n",
              "      <td>Yes</td>\n",
              "      <td>24.0</td>\n",
              "      <td>17</td>\n",
              "      <td>Yearly</td>\n",
              "      <td>50000.0</td>\n",
              "      <td>64630.0</td>\n",
              "      <td>United Kingdom</td>\n",
              "      <td>Pound sterling</td>\n",
              "      <td>...</td>\n",
              "      <td>Easy</td>\n",
              "      <td>Appropriate in length</td>\n",
              "      <td>No</td>\n",
              "      <td>Computer science, computer engineering, or sof...</td>\n",
              "      <td>NaN</td>\n",
              "      <td>NaN</td>\n",
              "      <td>Just as welcome now as I felt last year</td>\n",
              "      <td>40.0</td>\n",
              "      <td>8</td>\n",
              "      <td>2</td>\n",
              "    </tr>\n",
              "    <tr>\n",
              "      <th>22136</th>\n",
              "      <td>22221</td>\n",
              "      <td>I am a developer by profession</td>\n",
              "      <td>Yes</td>\n",
              "      <td>38.0</td>\n",
              "      <td>9</td>\n",
              "      <td>Yearly</td>\n",
              "      <td>60000.0</td>\n",
              "      <td>64859.0</td>\n",
              "      <td>Germany</td>\n",
              "      <td>European Euro</td>\n",
              "      <td>...</td>\n",
              "      <td>NaN</td>\n",
              "      <td>NaN</td>\n",
              "      <td>NaN</td>\n",
              "      <td>NaN</td>\n",
              "      <td>NaN</td>\n",
              "      <td>NaN</td>\n",
              "      <td>NaN</td>\n",
              "      <td>NaN</td>\n",
              "      <td>NaN</td>\n",
              "      <td>NaN</td>\n",
              "    </tr>\n",
              "  </tbody>\n",
              "</table>\n",
              "<p>22137 rows × 61 columns</p>\n",
              "</div>\n",
              "      <button class=\"colab-df-convert\" onclick=\"convertToInteractive('df-da888d75-7eff-4d81-adb1-773f6adfda87')\"\n",
              "              title=\"Convert this dataframe to an interactive table.\"\n",
              "              style=\"display:none;\">\n",
              "        \n",
              "  <svg xmlns=\"http://www.w3.org/2000/svg\" height=\"24px\"viewBox=\"0 0 24 24\"\n",
              "       width=\"24px\">\n",
              "    <path d=\"M0 0h24v24H0V0z\" fill=\"none\"/>\n",
              "    <path d=\"M18.56 5.44l.94 2.06.94-2.06 2.06-.94-2.06-.94-.94-2.06-.94 2.06-2.06.94zm-11 1L8.5 8.5l.94-2.06 2.06-.94-2.06-.94L8.5 2.5l-.94 2.06-2.06.94zm10 10l.94 2.06.94-2.06 2.06-.94-2.06-.94-.94-2.06-.94 2.06-2.06.94z\"/><path d=\"M17.41 7.96l-1.37-1.37c-.4-.4-.92-.59-1.43-.59-.52 0-1.04.2-1.43.59L10.3 9.45l-7.72 7.72c-.78.78-.78 2.05 0 2.83L4 21.41c.39.39.9.59 1.41.59.51 0 1.02-.2 1.41-.59l7.78-7.78 2.81-2.81c.8-.78.8-2.07 0-2.86zM5.41 20L4 18.59l7.72-7.72 1.47 1.35L5.41 20z\"/>\n",
              "  </svg>\n",
              "      </button>\n",
              "      \n",
              "  <style>\n",
              "    .colab-df-container {\n",
              "      display:flex;\n",
              "      flex-wrap:wrap;\n",
              "      gap: 12px;\n",
              "    }\n",
              "\n",
              "    .colab-df-convert {\n",
              "      background-color: #E8F0FE;\n",
              "      border: none;\n",
              "      border-radius: 50%;\n",
              "      cursor: pointer;\n",
              "      display: none;\n",
              "      fill: #1967D2;\n",
              "      height: 32px;\n",
              "      padding: 0 0 0 0;\n",
              "      width: 32px;\n",
              "    }\n",
              "\n",
              "    .colab-df-convert:hover {\n",
              "      background-color: #E2EBFA;\n",
              "      box-shadow: 0px 1px 2px rgba(60, 64, 67, 0.3), 0px 1px 3px 1px rgba(60, 64, 67, 0.15);\n",
              "      fill: #174EA6;\n",
              "    }\n",
              "\n",
              "    [theme=dark] .colab-df-convert {\n",
              "      background-color: #3B4455;\n",
              "      fill: #D2E3FC;\n",
              "    }\n",
              "\n",
              "    [theme=dark] .colab-df-convert:hover {\n",
              "      background-color: #434B5C;\n",
              "      box-shadow: 0px 1px 3px 1px rgba(0, 0, 0, 0.15);\n",
              "      filter: drop-shadow(0px 1px 2px rgba(0, 0, 0, 0.3));\n",
              "      fill: #FFFFFF;\n",
              "    }\n",
              "  </style>\n",
              "\n",
              "      <script>\n",
              "        const buttonEl =\n",
              "          document.querySelector('#df-da888d75-7eff-4d81-adb1-773f6adfda87 button.colab-df-convert');\n",
              "        buttonEl.style.display =\n",
              "          google.colab.kernel.accessAllowed ? 'block' : 'none';\n",
              "\n",
              "        async function convertToInteractive(key) {\n",
              "          const element = document.querySelector('#df-da888d75-7eff-4d81-adb1-773f6adfda87');\n",
              "          const dataTable =\n",
              "            await google.colab.kernel.invokeFunction('convertToInteractive',\n",
              "                                                     [key], {});\n",
              "          if (!dataTable) return;\n",
              "\n",
              "          const docLinkHtml = 'Like what you see? Visit the ' +\n",
              "            '<a target=\"_blank\" href=https://colab.research.google.com/notebooks/data_table.ipynb>data table notebook</a>'\n",
              "            + ' to learn more about interactive tables.';\n",
              "          element.innerHTML = '';\n",
              "          dataTable['output_type'] = 'display_data';\n",
              "          await google.colab.output.renderOutput(dataTable, element);\n",
              "          const docLink = document.createElement('div');\n",
              "          docLink.innerHTML = docLinkHtml;\n",
              "          element.appendChild(docLink);\n",
              "        }\n",
              "      </script>\n",
              "    </div>\n",
              "  </div>\n",
              "  "
            ]
          },
          "metadata": {},
          "execution_count": 3
        }
      ],
      "source": [
        "survey_raw_df"
      ]
    },
    {
      "cell_type": "markdown",
      "metadata": {
        "id": "dgRmyn8Tm4iH"
      },
      "source": [
        "Let's view the list of columns in the data frame. "
      ]
    },
    {
      "cell_type": "code",
      "execution_count": 4,
      "metadata": {
        "colab": {
          "base_uri": "https://localhost:8080/"
        },
        "id": "qARafsg2m4iI",
        "outputId": "a818dc7d-2e0e-45f5-c08e-66a233155587"
      },
      "outputs": [
        {
          "output_type": "execute_result",
          "data": {
            "text/plain": [
              "Index(['Respondent', 'MainBranch', 'Hobbyist', 'Age', 'Age1stCode', 'CompFreq',\n",
              "       'CompTotal', 'ConvertedComp', 'Country', 'CurrencyDesc',\n",
              "       'CurrencySymbol', 'DatabaseDesireNextYear', 'DatabaseWorkedWith',\n",
              "       'DevType', 'EdLevel', 'Employment', 'Ethnicity', 'Gender', 'JobFactors',\n",
              "       'JobSat', 'JobSeek', 'LanguageDesireNextYear', 'LanguageWorkedWith',\n",
              "       'MiscTechDesireNextYear', 'MiscTechWorkedWith',\n",
              "       'NEWCollabToolsDesireNextYear', 'NEWCollabToolsWorkedWith', 'NEWDevOps',\n",
              "       'NEWDevOpsImpt', 'NEWEdImpt', 'NEWJobHunt', 'NEWJobHuntResearch',\n",
              "       'NEWLearn', 'NEWOffTopic', 'NEWOnboardGood', 'NEWOtherComms',\n",
              "       'NEWOvertime', 'NEWPurchaseResearch', 'NEWPurpleLink', 'NEWSOSites',\n",
              "       'NEWStuck', 'OpSys', 'OrgSize', 'PlatformDesireNextYear',\n",
              "       'PlatformWorkedWith', 'PurchaseWhat', 'Sexuality', 'SOAccount',\n",
              "       'SOComm', 'SOPartFreq', 'SOVisitFreq', 'SurveyEase', 'SurveyLength',\n",
              "       'Trans', 'UndergradMajor', 'WebframeDesireNextYear',\n",
              "       'WebframeWorkedWith', 'WelcomeChange', 'WorkWeekHrs', 'YearsCode',\n",
              "       'YearsCodePro'],\n",
              "      dtype='object')"
            ]
          },
          "metadata": {},
          "execution_count": 4
        }
      ],
      "source": [
        "survey_raw_df.columns"
      ]
    },
    {
      "cell_type": "markdown",
      "metadata": {
        "id": "9uIZ6noOm4iK"
      },
      "source": [
        "It appears that shortcodes for questions have been used as column names. \n",
        "\n",
        "We can refer to the schema file to see the full text of each question. The schema file contains only two columns: `Column` and `QuestionText`. We can load it as Pandas Series with `Column` as the index and the  `QuestionText` as the value."
      ]
    },
    {
      "cell_type": "code",
      "execution_count": 5,
      "metadata": {
        "id": "29AurePxm4iM"
      },
      "outputs": [],
      "source": [
        "schema_fname = 'survey_results_schema.csv'\n",
        "schema_raw = pd.read_csv(schema_fname, index_col='Column').QuestionText"
      ]
    },
    {
      "cell_type": "code",
      "execution_count": 6,
      "metadata": {
        "colab": {
          "base_uri": "https://localhost:8080/"
        },
        "id": "zYyMr1jym4iO",
        "outputId": "67b6e201-6a67-4207-b8fc-47947f30384e"
      },
      "outputs": [
        {
          "output_type": "execute_result",
          "data": {
            "text/plain": [
              "Column\n",
              "Respondent            Randomized respondent ID number (not in order ...\n",
              "MainBranch            Which of the following options best describes ...\n",
              "Hobbyist                                        Do you code as a hobby?\n",
              "Age                   What is your age (in years)? If you prefer not...\n",
              "Age1stCode            At what age did you write your first line of c...\n",
              "                                            ...                        \n",
              "WebframeWorkedWith    Which web frameworks have you done extensive d...\n",
              "WelcomeChange         Compared to last year, how welcome do you feel...\n",
              "WorkWeekHrs           On average, how many hours per week do you wor...\n",
              "YearsCode             Including any education, how many years have y...\n",
              "YearsCodePro          NOT including education, how many years have y...\n",
              "Name: QuestionText, Length: 61, dtype: object"
            ]
          },
          "metadata": {},
          "execution_count": 6
        }
      ],
      "source": [
        "schema_raw"
      ]
    },
    {
      "cell_type": "markdown",
      "metadata": {
        "id": "WWowMjDpm4iQ"
      },
      "source": [
        "We can now use `schema_raw` to retrieve the full question text for any column in `survey_raw_df`."
      ]
    },
    {
      "cell_type": "code",
      "execution_count": 7,
      "metadata": {
        "colab": {
          "base_uri": "https://localhost:8080/",
          "height": 35
        },
        "id": "ydfhaL8rm4iR",
        "outputId": "63bfe4b5-b0da-44c8-dd4f-92cf89e24d1e"
      },
      "outputs": [
        {
          "output_type": "execute_result",
          "data": {
            "text/plain": [
              "'NOT including education, how many years have you coded professionally (as a part of your work)?'"
            ],
            "application/vnd.google.colaboratory.intrinsic+json": {
              "type": "string"
            }
          },
          "metadata": {},
          "execution_count": 7
        }
      ],
      "source": [
        "schema_raw['YearsCodePro']"
      ]
    },
    {
      "cell_type": "markdown",
      "metadata": {
        "id": "MydbL3Uam4iS"
      },
      "source": [
        "We've now loaded the dataset. We're ready to move on to the next step of preprocessing & cleaning the data for our analysis."
      ]
    },
    {
      "cell_type": "code",
      "execution_count": 8,
      "metadata": {
        "id": "VLGhhLQUm4iS"
      },
      "outputs": [],
      "source": [
        "# Select a project name\n",
        "project='python-stackoverflow-survey'"
      ]
    },
    {
      "cell_type": "markdown",
      "metadata": {
        "id": "AbCmH3qqm4iT"
      },
      "source": [
        "## Data Preparation & Cleaning\n",
        "\n",
        "While the survey responses contain a wealth of information, we'll limit our analysis to the following areas:\n",
        "\n",
        "- Demographics of the survey respondents and the global programming community\n",
        "- Distribution of programming skills, experience, and preferences\n",
        "- Employment-related information, preferences, and opinions\n",
        "\n",
        "Let's select a subset of columns with the relevant data for our analysis."
      ]
    },
    {
      "cell_type": "code",
      "execution_count": 9,
      "metadata": {
        "id": "9quf8c9Zm4iV"
      },
      "outputs": [],
      "source": [
        "selected_columns = [\n",
        "    # Demographics\n",
        "    'Country',\n",
        "    'Age',\n",
        "    'Gender',\n",
        "    'EdLevel',\n",
        "    'UndergradMajor',\n",
        "    # Programming experience\n",
        "    'Hobbyist',\n",
        "    'Age1stCode',\n",
        "    'YearsCode',\n",
        "    'YearsCodePro',\n",
        "    'LanguageWorkedWith',\n",
        "    'LanguageDesireNextYear',\n",
        "    'NEWLearn',\n",
        "    'NEWStuck',\n",
        "    # Employment\n",
        "    'Employment',\n",
        "    'DevType',\n",
        "    'WorkWeekHrs',\n",
        "    'JobSat',\n",
        "    'JobFactors',\n",
        "    'NEWOvertime',\n",
        "    'NEWEdImpt'\n",
        "]"
      ]
    },
    {
      "cell_type": "code",
      "execution_count": 10,
      "metadata": {
        "colab": {
          "base_uri": "https://localhost:8080/"
        },
        "id": "YRftuyZgm4iW",
        "outputId": "f326dac8-4406-4553-b6d7-20d7dc28343d"
      },
      "outputs": [
        {
          "output_type": "execute_result",
          "data": {
            "text/plain": [
              "20"
            ]
          },
          "metadata": {},
          "execution_count": 10
        }
      ],
      "source": [
        "len(selected_columns)"
      ]
    },
    {
      "cell_type": "markdown",
      "metadata": {
        "id": "t5Z7HrDlm4iX"
      },
      "source": [
        "Let's extract a copy of the data from these columns into a new data frame "
      ]
    },
    {
      "cell_type": "code",
      "execution_count": 12,
      "metadata": {
        "id": "j8e8oXYOm4iX"
      },
      "outputs": [],
      "source": [
        "survey_df = survey_raw_df[selected_columns].copy()"
      ]
    },
    {
      "cell_type": "code",
      "execution_count": 13,
      "metadata": {
        "id": "Lc2ddQ7_m4iY"
      },
      "outputs": [],
      "source": [
        "schema = schema_raw[selected_columns]"
      ]
    },
    {
      "cell_type": "code",
      "execution_count": 14,
      "metadata": {
        "colab": {
          "base_uri": "https://localhost:8080/"
        },
        "id": "HUq33G0-m4iZ",
        "outputId": "b9986235-1f62-48ad-a9b6-bebfc92cc634"
      },
      "outputs": [
        {
          "output_type": "execute_result",
          "data": {
            "text/plain": [
              "(22137, 20)"
            ]
          },
          "metadata": {},
          "execution_count": 14
        }
      ],
      "source": [
        "survey_df.shape"
      ]
    },
    {
      "cell_type": "code",
      "execution_count": 15,
      "metadata": {
        "colab": {
          "base_uri": "https://localhost:8080/"
        },
        "id": "qbOcFOXWm4ia",
        "outputId": "22ba24bd-47da-454d-8b6b-65f2f7027cd0"
      },
      "outputs": [
        {
          "output_type": "stream",
          "name": "stdout",
          "text": [
            "<class 'pandas.core.frame.DataFrame'>\n",
            "RangeIndex: 22137 entries, 0 to 22136\n",
            "Data columns (total 20 columns):\n",
            " #   Column                  Non-Null Count  Dtype  \n",
            "---  ------                  --------------  -----  \n",
            " 0   Country                 22137 non-null  object \n",
            " 1   Age                     19157 non-null  float64\n",
            " 2   Gender                  21135 non-null  object \n",
            " 3   EdLevel                 21581 non-null  object \n",
            " 4   UndergradMajor          19399 non-null  object \n",
            " 5   Hobbyist                22137 non-null  object \n",
            " 6   Age1stCode              21953 non-null  object \n",
            " 7   YearsCode               21894 non-null  object \n",
            " 8   YearsCodePro            18052 non-null  object \n",
            " 9   LanguageWorkedWith      21864 non-null  object \n",
            " 10  LanguageDesireNextYear  20668 non-null  object \n",
            " 11  NEWLearn                21286 non-null  object \n",
            " 12  NEWStuck                21711 non-null  object \n",
            " 13  Employment              22048 non-null  object \n",
            " 14  DevType                 19199 non-null  object \n",
            " 15  WorkWeekHrs             16839 non-null  float64\n",
            " 16  JobSat                  17824 non-null  object \n",
            " 17  JobFactors              20012 non-null  object \n",
            " 18  NEWOvertime             17591 non-null  object \n",
            " 19  NEWEdImpt               18810 non-null  object \n",
            "dtypes: float64(2), object(18)\n",
            "memory usage: 3.4+ MB\n"
          ]
        }
      ],
      "source": [
        "survey_df.info()"
      ]
    },
    {
      "cell_type": "markdown",
      "metadata": {
        "id": "4AFDBRoUm4ia"
      },
      "source": [
        "Most columns have the data type `object`, either because they contain values of different types or contain empty values (`NaN`). It appears that every column contains some empty values since the Non-Null count for every column is lower than the total number of rows (64461). We'll need to deal with empty values and manually adjust the data type for each column on a case-by-case basis. \n",
        "\n",
        "Only two of the columns were detected as numeric columns (`Age` and `WorkWeekHrs`), even though a few other columns have mostly numeric values. To make our analysis easier, let's convert some other columns into numeric data types while ignoring any non-numeric value. The non-numeric are converted to `NaN`."
      ]
    },
    {
      "cell_type": "code",
      "execution_count": 16,
      "metadata": {
        "id": "rFJCx4o1m4ic"
      },
      "outputs": [],
      "source": [
        "survey_df['Age1stCode'] = pd.to_numeric(survey_df.Age1stCode, errors='coerce')\n",
        "survey_df['YearsCode'] = pd.to_numeric(survey_df.YearsCode, errors='coerce')\n",
        "survey_df['YearsCodePro'] = pd.to_numeric(survey_df.YearsCodePro, errors='coerce')"
      ]
    },
    {
      "cell_type": "markdown",
      "metadata": {
        "id": "l3wvA_r-m4ic"
      },
      "source": [
        "Let's now view some basic statistics about numeric columns."
      ]
    },
    {
      "cell_type": "code",
      "execution_count": 17,
      "metadata": {
        "colab": {
          "base_uri": "https://localhost:8080/",
          "height": 300
        },
        "id": "H0fXlJMKm4id",
        "outputId": "eb82a914-fde8-4fb7-b586-1facbaaeaff2"
      },
      "outputs": [
        {
          "output_type": "execute_result",
          "data": {
            "text/plain": [
              "                Age    Age1stCode     YearsCode  YearsCodePro   WorkWeekHrs\n",
              "count  19157.000000  21820.000000  21627.000000  17346.000000  16839.000000\n",
              "mean      31.140669     15.393905     13.271328      9.101464     40.727637\n",
              "std        9.702776      5.090786      9.670049      7.825797     17.080224\n",
              "min        1.000000      5.000000      1.000000      1.000000      1.000000\n",
              "25%       25.000000     12.000000      6.000000      3.000000     40.000000\n",
              "50%       29.000000     15.000000     10.000000      6.000000     40.000000\n",
              "75%       36.000000     18.000000     18.000000     12.000000     43.000000\n",
              "max      279.000000     85.000000     50.000000     50.000000    425.000000"
            ],
            "text/html": [
              "\n",
              "  <div id=\"df-cf7cd759-25ef-4bc7-89d3-1a044066f71b\">\n",
              "    <div class=\"colab-df-container\">\n",
              "      <div>\n",
              "<style scoped>\n",
              "    .dataframe tbody tr th:only-of-type {\n",
              "        vertical-align: middle;\n",
              "    }\n",
              "\n",
              "    .dataframe tbody tr th {\n",
              "        vertical-align: top;\n",
              "    }\n",
              "\n",
              "    .dataframe thead th {\n",
              "        text-align: right;\n",
              "    }\n",
              "</style>\n",
              "<table border=\"1\" class=\"dataframe\">\n",
              "  <thead>\n",
              "    <tr style=\"text-align: right;\">\n",
              "      <th></th>\n",
              "      <th>Age</th>\n",
              "      <th>Age1stCode</th>\n",
              "      <th>YearsCode</th>\n",
              "      <th>YearsCodePro</th>\n",
              "      <th>WorkWeekHrs</th>\n",
              "    </tr>\n",
              "  </thead>\n",
              "  <tbody>\n",
              "    <tr>\n",
              "      <th>count</th>\n",
              "      <td>19157.000000</td>\n",
              "      <td>21820.000000</td>\n",
              "      <td>21627.000000</td>\n",
              "      <td>17346.000000</td>\n",
              "      <td>16839.000000</td>\n",
              "    </tr>\n",
              "    <tr>\n",
              "      <th>mean</th>\n",
              "      <td>31.140669</td>\n",
              "      <td>15.393905</td>\n",
              "      <td>13.271328</td>\n",
              "      <td>9.101464</td>\n",
              "      <td>40.727637</td>\n",
              "    </tr>\n",
              "    <tr>\n",
              "      <th>std</th>\n",
              "      <td>9.702776</td>\n",
              "      <td>5.090786</td>\n",
              "      <td>9.670049</td>\n",
              "      <td>7.825797</td>\n",
              "      <td>17.080224</td>\n",
              "    </tr>\n",
              "    <tr>\n",
              "      <th>min</th>\n",
              "      <td>1.000000</td>\n",
              "      <td>5.000000</td>\n",
              "      <td>1.000000</td>\n",
              "      <td>1.000000</td>\n",
              "      <td>1.000000</td>\n",
              "    </tr>\n",
              "    <tr>\n",
              "      <th>25%</th>\n",
              "      <td>25.000000</td>\n",
              "      <td>12.000000</td>\n",
              "      <td>6.000000</td>\n",
              "      <td>3.000000</td>\n",
              "      <td>40.000000</td>\n",
              "    </tr>\n",
              "    <tr>\n",
              "      <th>50%</th>\n",
              "      <td>29.000000</td>\n",
              "      <td>15.000000</td>\n",
              "      <td>10.000000</td>\n",
              "      <td>6.000000</td>\n",
              "      <td>40.000000</td>\n",
              "    </tr>\n",
              "    <tr>\n",
              "      <th>75%</th>\n",
              "      <td>36.000000</td>\n",
              "      <td>18.000000</td>\n",
              "      <td>18.000000</td>\n",
              "      <td>12.000000</td>\n",
              "      <td>43.000000</td>\n",
              "    </tr>\n",
              "    <tr>\n",
              "      <th>max</th>\n",
              "      <td>279.000000</td>\n",
              "      <td>85.000000</td>\n",
              "      <td>50.000000</td>\n",
              "      <td>50.000000</td>\n",
              "      <td>425.000000</td>\n",
              "    </tr>\n",
              "  </tbody>\n",
              "</table>\n",
              "</div>\n",
              "      <button class=\"colab-df-convert\" onclick=\"convertToInteractive('df-cf7cd759-25ef-4bc7-89d3-1a044066f71b')\"\n",
              "              title=\"Convert this dataframe to an interactive table.\"\n",
              "              style=\"display:none;\">\n",
              "        \n",
              "  <svg xmlns=\"http://www.w3.org/2000/svg\" height=\"24px\"viewBox=\"0 0 24 24\"\n",
              "       width=\"24px\">\n",
              "    <path d=\"M0 0h24v24H0V0z\" fill=\"none\"/>\n",
              "    <path d=\"M18.56 5.44l.94 2.06.94-2.06 2.06-.94-2.06-.94-.94-2.06-.94 2.06-2.06.94zm-11 1L8.5 8.5l.94-2.06 2.06-.94-2.06-.94L8.5 2.5l-.94 2.06-2.06.94zm10 10l.94 2.06.94-2.06 2.06-.94-2.06-.94-.94-2.06-.94 2.06-2.06.94z\"/><path d=\"M17.41 7.96l-1.37-1.37c-.4-.4-.92-.59-1.43-.59-.52 0-1.04.2-1.43.59L10.3 9.45l-7.72 7.72c-.78.78-.78 2.05 0 2.83L4 21.41c.39.39.9.59 1.41.59.51 0 1.02-.2 1.41-.59l7.78-7.78 2.81-2.81c.8-.78.8-2.07 0-2.86zM5.41 20L4 18.59l7.72-7.72 1.47 1.35L5.41 20z\"/>\n",
              "  </svg>\n",
              "      </button>\n",
              "      \n",
              "  <style>\n",
              "    .colab-df-container {\n",
              "      display:flex;\n",
              "      flex-wrap:wrap;\n",
              "      gap: 12px;\n",
              "    }\n",
              "\n",
              "    .colab-df-convert {\n",
              "      background-color: #E8F0FE;\n",
              "      border: none;\n",
              "      border-radius: 50%;\n",
              "      cursor: pointer;\n",
              "      display: none;\n",
              "      fill: #1967D2;\n",
              "      height: 32px;\n",
              "      padding: 0 0 0 0;\n",
              "      width: 32px;\n",
              "    }\n",
              "\n",
              "    .colab-df-convert:hover {\n",
              "      background-color: #E2EBFA;\n",
              "      box-shadow: 0px 1px 2px rgba(60, 64, 67, 0.3), 0px 1px 3px 1px rgba(60, 64, 67, 0.15);\n",
              "      fill: #174EA6;\n",
              "    }\n",
              "\n",
              "    [theme=dark] .colab-df-convert {\n",
              "      background-color: #3B4455;\n",
              "      fill: #D2E3FC;\n",
              "    }\n",
              "\n",
              "    [theme=dark] .colab-df-convert:hover {\n",
              "      background-color: #434B5C;\n",
              "      box-shadow: 0px 1px 3px 1px rgba(0, 0, 0, 0.15);\n",
              "      filter: drop-shadow(0px 1px 2px rgba(0, 0, 0, 0.3));\n",
              "      fill: #FFFFFF;\n",
              "    }\n",
              "  </style>\n",
              "\n",
              "      <script>\n",
              "        const buttonEl =\n",
              "          document.querySelector('#df-cf7cd759-25ef-4bc7-89d3-1a044066f71b button.colab-df-convert');\n",
              "        buttonEl.style.display =\n",
              "          google.colab.kernel.accessAllowed ? 'block' : 'none';\n",
              "\n",
              "        async function convertToInteractive(key) {\n",
              "          const element = document.querySelector('#df-cf7cd759-25ef-4bc7-89d3-1a044066f71b');\n",
              "          const dataTable =\n",
              "            await google.colab.kernel.invokeFunction('convertToInteractive',\n",
              "                                                     [key], {});\n",
              "          if (!dataTable) return;\n",
              "\n",
              "          const docLinkHtml = 'Like what you see? Visit the ' +\n",
              "            '<a target=\"_blank\" href=https://colab.research.google.com/notebooks/data_table.ipynb>data table notebook</a>'\n",
              "            + ' to learn more about interactive tables.';\n",
              "          element.innerHTML = '';\n",
              "          dataTable['output_type'] = 'display_data';\n",
              "          await google.colab.output.renderOutput(dataTable, element);\n",
              "          const docLink = document.createElement('div');\n",
              "          docLink.innerHTML = docLinkHtml;\n",
              "          element.appendChild(docLink);\n",
              "        }\n",
              "      </script>\n",
              "    </div>\n",
              "  </div>\n",
              "  "
            ]
          },
          "metadata": {},
          "execution_count": 17
        }
      ],
      "source": [
        "survey_df.describe()"
      ]
    },
    {
      "cell_type": "markdown",
      "metadata": {
        "id": "RL0x-e3Qm4ie"
      },
      "source": [
        "There seems to be a problem with the age column, as the minimum value is 1 and the maximum is 279. This is a common issue with surveys: responses may contain invalid values due to accidental or intentional errors while responding. A simple fix would be to ignore the rows where the age is higher than 100 years or lower than 10 years as invalid survey responses. We can do this using the `.drop` method"
      ]
    },
    {
      "cell_type": "code",
      "execution_count": 18,
      "metadata": {
        "id": "8k9g9Ew_m4ie"
      },
      "outputs": [],
      "source": [
        "survey_df.drop(survey_df[survey_df.Age < 10].index, inplace=True)\n",
        "survey_df.drop(survey_df[survey_df.Age > 100].index, inplace=True)"
      ]
    },
    {
      "cell_type": "markdown",
      "metadata": {
        "id": "WVtPL3mtm4if"
      },
      "source": [
        "The same holds for `WorkWeekHrs`. Let's ignore entries where the value for the column is higher than 140 hours. (~20 hours per day)."
      ]
    },
    {
      "cell_type": "code",
      "execution_count": 19,
      "metadata": {
        "id": "KfaqNTdEm4ig"
      },
      "outputs": [],
      "source": [
        "survey_df.drop(survey_df[survey_df.WorkWeekHrs > 140].index, inplace=True)"
      ]
    },
    {
      "cell_type": "markdown",
      "metadata": {
        "id": "TdJ-nGRCm4ig"
      },
      "source": [
        "The gender column also allows for picking multiple options. We'll remove values containing more than one option to simplify our analysis."
      ]
    },
    {
      "cell_type": "code",
      "execution_count": 20,
      "metadata": {
        "colab": {
          "base_uri": "https://localhost:8080/"
        },
        "id": "IzX0jp8Zm4ih",
        "outputId": "977165f7-88d5-4e61-8127-c9b3f3534871"
      },
      "outputs": [
        {
          "output_type": "execute_result",
          "data": {
            "text/plain": [
              "Man                                                            19477\n",
              "Woman                                                           1359\n",
              "Non-binary, genderqueer, or gender non-conforming                140\n",
              "Man;Non-binary, genderqueer, or gender non-conforming             41\n",
              "Woman;Man                                                         32\n",
              "Woman;Non-binary, genderqueer, or gender non-conforming           27\n",
              "Woman;Man;Non-binary, genderqueer, or gender non-conforming       10\n",
              "Name: Gender, dtype: int64"
            ]
          },
          "metadata": {},
          "execution_count": 20
        }
      ],
      "source": [
        "survey_df['Gender'].value_counts()"
      ]
    },
    {
      "cell_type": "code",
      "execution_count": 21,
      "metadata": {
        "id": "N9yVyy-Em4ii"
      },
      "outputs": [],
      "source": [
        "import numpy as np"
      ]
    },
    {
      "cell_type": "code",
      "execution_count": 22,
      "metadata": {
        "id": "EcmIqrt4m4ii"
      },
      "outputs": [],
      "source": [
        "survey_df.where(~(survey_df.Gender.str.contains(';', na=False)), np.nan, inplace=True)"
      ]
    },
    {
      "cell_type": "markdown",
      "metadata": {
        "id": "iKDQtkFom4ij"
      },
      "source": [
        "We've now cleaned up and prepared the dataset for analysis. Let's take a look at a sample of rows from the data frame."
      ]
    },
    {
      "cell_type": "code",
      "execution_count": 23,
      "metadata": {
        "colab": {
          "base_uri": "https://localhost:8080/",
          "height": 1000
        },
        "id": "9R-PRsYIm4ij",
        "outputId": "e84d26ef-8f01-443f-9953-c2c41798f8e3"
      },
      "outputs": [
        {
          "output_type": "execute_result",
          "data": {
            "text/plain": [
              "              Country   Age Gender  \\\n",
              "20231           India   NaN    Man   \n",
              "323     United States  29.0    Man   \n",
              "18254          Canada  32.0    Man   \n",
              "20025     Philippines   NaN    Man   \n",
              "9696           Turkey   NaN    Man   \n",
              "5088    United States  28.0    Man   \n",
              "4873        Australia   NaN    Man   \n",
              "964     United States  28.0    Man   \n",
              "8131      Switzerland  37.0    Man   \n",
              "15364  United Kingdom  30.0    Man   \n",
              "\n",
              "                                               EdLevel  \\\n",
              "20231     Bachelor’s degree (B.A., B.S., B.Eng., etc.)   \n",
              "323       Bachelor’s degree (B.A., B.S., B.Eng., etc.)   \n",
              "18254  Master’s degree (M.A., M.S., M.Eng., MBA, etc.)   \n",
              "20025     Bachelor’s degree (B.A., B.S., B.Eng., etc.)   \n",
              "9696   Master’s degree (M.A., M.S., M.Eng., MBA, etc.)   \n",
              "5088      Bachelor’s degree (B.A., B.S., B.Eng., etc.)   \n",
              "4873      Bachelor’s degree (B.A., B.S., B.Eng., etc.)   \n",
              "964             I never completed any formal education   \n",
              "8131      Bachelor’s degree (B.A., B.S., B.Eng., etc.)   \n",
              "15364  Master’s degree (M.A., M.S., M.Eng., MBA, etc.)   \n",
              "\n",
              "                                          UndergradMajor Hobbyist  Age1stCode  \\\n",
              "20231  Computer science, computer engineering, or sof...      Yes        15.0   \n",
              "323    Computer science, computer engineering, or sof...      Yes        10.0   \n",
              "18254  Another engineering discipline (such as civil,...       No         5.0   \n",
              "20025  Information systems, information technology, o...       No        18.0   \n",
              "9696   Another engineering discipline (such as civil,...      Yes        23.0   \n",
              "5088   Computer science, computer engineering, or sof...       No        18.0   \n",
              "4873   Another engineering discipline (such as civil,...       No        18.0   \n",
              "964                                                  NaN      Yes         9.0   \n",
              "8131   Computer science, computer engineering, or sof...      Yes        16.0   \n",
              "15364  A humanities discipline (such as literature, h...      Yes        25.0   \n",
              "\n",
              "       YearsCode  YearsCodePro  \\\n",
              "20231        5.0           NaN   \n",
              "323         19.0          10.0   \n",
              "18254       20.0          10.0   \n",
              "20025        2.0           NaN   \n",
              "9696         4.0           NaN   \n",
              "5088        10.0           6.0   \n",
              "4873         6.0           3.0   \n",
              "964         19.0           NaN   \n",
              "8131        22.0           8.0   \n",
              "15364        5.0           5.0   \n",
              "\n",
              "                                      LanguageWorkedWith  \\\n",
              "20231                                               Java   \n",
              "323                             C#;C++;JavaScript;Python   \n",
              "18254        Bash/Shell/PowerShell;C;C++;HTML/CSS;Python   \n",
              "20025                                               Java   \n",
              "9696                               C;HTML/CSS;Python;SQL   \n",
              "5088                                   HTML/CSS;Ruby;SQL   \n",
              "4873                                            C++;Dart   \n",
              "964    C#;HTML/CSS;JavaScript;Python;Ruby;SQL;TypeScript   \n",
              "8131                 C#;C++;HTML/CSS;Java;JavaScript;PHP   \n",
              "15364     Bash/Shell/PowerShell;C#;Java;JavaScript;R;SQL   \n",
              "\n",
              "                                 LanguageDesireNextYear              NEWLearn  \\\n",
              "20231                             Java;JavaScript;Scala      Every few months   \n",
              "323                                C#;C++;Python;R;Rust  Once every few years   \n",
              "18254                 Bash/Shell/PowerShell;C;C++;Julia  Once every few years   \n",
              "20025                                               NaN           Once a year   \n",
              "9696                                             Python           Once a year   \n",
              "5088                                  HTML/CSS;Ruby;SQL           Once a year   \n",
              "4873                                HTML/CSS;JavaScript  Once every few years   \n",
              "964    C#;Dart;Go;Haskell;Kotlin;Python;Rust;TypeScript                   NaN   \n",
              "8131            C++;HTML/CSS;Java;JavaScript;PHP;Python           Once a year   \n",
              "15364                                               NaN           Once a year   \n",
              "\n",
              "                                                NEWStuck  \\\n",
              "20231     Call a coworker or friend;Visit Stack Overflow   \n",
              "323    Visit Stack Overflow;Panic;Do other work and c...   \n",
              "18254  Visit Stack Overflow;Watch help / tutorial vid...   \n",
              "20025                               Visit Stack Overflow   \n",
              "9696                        Watch help / tutorial videos   \n",
              "5088   Call a coworker or friend;Visit Stack Overflow...   \n",
              "4873   Call a coworker or friend;Visit Stack Overflow...   \n",
              "964    Play games;Call a coworker or friend;Visit Sta...   \n",
              "8131   Call a coworker or friend;Visit Stack Overflow...   \n",
              "15364  Visit Stack Overflow;Go for a walk or other ph...   \n",
              "\n",
              "                               Employment  \\\n",
              "20231                  Employed full-time   \n",
              "323                    Employed full-time   \n",
              "18254                  Employed full-time   \n",
              "20025                             Student   \n",
              "9696   Not employed, but looking for work   \n",
              "5088                   Employed full-time   \n",
              "4873                   Employed full-time   \n",
              "964                    Employed part-time   \n",
              "8131                   Employed full-time   \n",
              "15364                  Employed full-time   \n",
              "\n",
              "                                                 DevType  WorkWeekHrs  \\\n",
              "20231                                Developer, back-end         45.0   \n",
              "323    Academic researcher;Data scientist or machine ...         40.0   \n",
              "18254  Engineering manager;Scientist;Senior executive/VP         60.0   \n",
              "20025                                                NaN          NaN   \n",
              "9696   Data or business analyst;Designer;Developer, b...          NaN   \n",
              "5088                               Developer, full-stack         40.0   \n",
              "4873   Developer, back-end;Developer, desktop or ente...         38.0   \n",
              "964    Designer;Developer, desktop or enterprise appl...          NaN   \n",
              "8131                                            Educator          5.0   \n",
              "15364  Developer, back-end;Developer, desktop or ente...         37.0   \n",
              "\n",
              "                                   JobSat  \\\n",
              "20231                  Slightly satisfied   \n",
              "323    Neither satisfied nor dissatisfied   \n",
              "18254                      Very satisfied   \n",
              "20025                                 NaN   \n",
              "9696                                  NaN   \n",
              "5088                       Very satisfied   \n",
              "4873                Slightly dissatisfied   \n",
              "964                                   NaN   \n",
              "8131                    Very dissatisfied   \n",
              "15364                      Very satisfied   \n",
              "\n",
              "                                              JobFactors  \\\n",
              "20231  Industry that I’d be working in;Flex time or a...   \n",
              "323                                                  NaN   \n",
              "18254  Flex time or a flexible schedule;How widely us...   \n",
              "20025  Languages, frameworks, and other technologies ...   \n",
              "9696   Industry that I’d be working in;Flex time or a...   \n",
              "5088   Industry that I’d be working in;Languages, fra...   \n",
              "4873   Flex time or a flexible schedule;Languages, fr...   \n",
              "964                                                  NaN   \n",
              "8131   Languages, frameworks, and other technologies ...   \n",
              "15364  Remote work options;Office environment or comp...   \n",
              "\n",
              "                                             NEWOvertime  \\\n",
              "20231  Sometimes: 1-2 days per month but less than we...   \n",
              "323                                                Never   \n",
              "18254                   Often: 1-2 days per week or more   \n",
              "20025                                                NaN   \n",
              "9696                                                 NaN   \n",
              "5088                   Rarely: 1-2 days per year or less   \n",
              "4873                                               Never   \n",
              "964                                                  NaN   \n",
              "8131   Occasionally: 1-2 days per quarter but less th...   \n",
              "15364  Sometimes: 1-2 days per month but less than we...   \n",
              "\n",
              "                                NEWEdImpt  \n",
              "20231                      Very important  \n",
              "323                  Critically important  \n",
              "18254                  Somewhat important  \n",
              "20025                                 NaN  \n",
              "9696                                  NaN  \n",
              "5088                 Critically important  \n",
              "4873   Not at all important/not necessary  \n",
              "964                                   NaN  \n",
              "8131                       Very important  \n",
              "15364  Not at all important/not necessary  "
            ],
            "text/html": [
              "\n",
              "  <div id=\"df-2ee54f6d-82c3-4f96-886a-35018358c662\">\n",
              "    <div class=\"colab-df-container\">\n",
              "      <div>\n",
              "<style scoped>\n",
              "    .dataframe tbody tr th:only-of-type {\n",
              "        vertical-align: middle;\n",
              "    }\n",
              "\n",
              "    .dataframe tbody tr th {\n",
              "        vertical-align: top;\n",
              "    }\n",
              "\n",
              "    .dataframe thead th {\n",
              "        text-align: right;\n",
              "    }\n",
              "</style>\n",
              "<table border=\"1\" class=\"dataframe\">\n",
              "  <thead>\n",
              "    <tr style=\"text-align: right;\">\n",
              "      <th></th>\n",
              "      <th>Country</th>\n",
              "      <th>Age</th>\n",
              "      <th>Gender</th>\n",
              "      <th>EdLevel</th>\n",
              "      <th>UndergradMajor</th>\n",
              "      <th>Hobbyist</th>\n",
              "      <th>Age1stCode</th>\n",
              "      <th>YearsCode</th>\n",
              "      <th>YearsCodePro</th>\n",
              "      <th>LanguageWorkedWith</th>\n",
              "      <th>LanguageDesireNextYear</th>\n",
              "      <th>NEWLearn</th>\n",
              "      <th>NEWStuck</th>\n",
              "      <th>Employment</th>\n",
              "      <th>DevType</th>\n",
              "      <th>WorkWeekHrs</th>\n",
              "      <th>JobSat</th>\n",
              "      <th>JobFactors</th>\n",
              "      <th>NEWOvertime</th>\n",
              "      <th>NEWEdImpt</th>\n",
              "    </tr>\n",
              "  </thead>\n",
              "  <tbody>\n",
              "    <tr>\n",
              "      <th>20231</th>\n",
              "      <td>India</td>\n",
              "      <td>NaN</td>\n",
              "      <td>Man</td>\n",
              "      <td>Bachelor’s degree (B.A., B.S., B.Eng., etc.)</td>\n",
              "      <td>Computer science, computer engineering, or sof...</td>\n",
              "      <td>Yes</td>\n",
              "      <td>15.0</td>\n",
              "      <td>5.0</td>\n",
              "      <td>NaN</td>\n",
              "      <td>Java</td>\n",
              "      <td>Java;JavaScript;Scala</td>\n",
              "      <td>Every few months</td>\n",
              "      <td>Call a coworker or friend;Visit Stack Overflow</td>\n",
              "      <td>Employed full-time</td>\n",
              "      <td>Developer, back-end</td>\n",
              "      <td>45.0</td>\n",
              "      <td>Slightly satisfied</td>\n",
              "      <td>Industry that I’d be working in;Flex time or a...</td>\n",
              "      <td>Sometimes: 1-2 days per month but less than we...</td>\n",
              "      <td>Very important</td>\n",
              "    </tr>\n",
              "    <tr>\n",
              "      <th>323</th>\n",
              "      <td>United States</td>\n",
              "      <td>29.0</td>\n",
              "      <td>Man</td>\n",
              "      <td>Bachelor’s degree (B.A., B.S., B.Eng., etc.)</td>\n",
              "      <td>Computer science, computer engineering, or sof...</td>\n",
              "      <td>Yes</td>\n",
              "      <td>10.0</td>\n",
              "      <td>19.0</td>\n",
              "      <td>10.0</td>\n",
              "      <td>C#;C++;JavaScript;Python</td>\n",
              "      <td>C#;C++;Python;R;Rust</td>\n",
              "      <td>Once every few years</td>\n",
              "      <td>Visit Stack Overflow;Panic;Do other work and c...</td>\n",
              "      <td>Employed full-time</td>\n",
              "      <td>Academic researcher;Data scientist or machine ...</td>\n",
              "      <td>40.0</td>\n",
              "      <td>Neither satisfied nor dissatisfied</td>\n",
              "      <td>NaN</td>\n",
              "      <td>Never</td>\n",
              "      <td>Critically important</td>\n",
              "    </tr>\n",
              "    <tr>\n",
              "      <th>18254</th>\n",
              "      <td>Canada</td>\n",
              "      <td>32.0</td>\n",
              "      <td>Man</td>\n",
              "      <td>Master’s degree (M.A., M.S., M.Eng., MBA, etc.)</td>\n",
              "      <td>Another engineering discipline (such as civil,...</td>\n",
              "      <td>No</td>\n",
              "      <td>5.0</td>\n",
              "      <td>20.0</td>\n",
              "      <td>10.0</td>\n",
              "      <td>Bash/Shell/PowerShell;C;C++;HTML/CSS;Python</td>\n",
              "      <td>Bash/Shell/PowerShell;C;C++;Julia</td>\n",
              "      <td>Once every few years</td>\n",
              "      <td>Visit Stack Overflow;Watch help / tutorial vid...</td>\n",
              "      <td>Employed full-time</td>\n",
              "      <td>Engineering manager;Scientist;Senior executive/VP</td>\n",
              "      <td>60.0</td>\n",
              "      <td>Very satisfied</td>\n",
              "      <td>Flex time or a flexible schedule;How widely us...</td>\n",
              "      <td>Often: 1-2 days per week or more</td>\n",
              "      <td>Somewhat important</td>\n",
              "    </tr>\n",
              "    <tr>\n",
              "      <th>20025</th>\n",
              "      <td>Philippines</td>\n",
              "      <td>NaN</td>\n",
              "      <td>Man</td>\n",
              "      <td>Bachelor’s degree (B.A., B.S., B.Eng., etc.)</td>\n",
              "      <td>Information systems, information technology, o...</td>\n",
              "      <td>No</td>\n",
              "      <td>18.0</td>\n",
              "      <td>2.0</td>\n",
              "      <td>NaN</td>\n",
              "      <td>Java</td>\n",
              "      <td>NaN</td>\n",
              "      <td>Once a year</td>\n",
              "      <td>Visit Stack Overflow</td>\n",
              "      <td>Student</td>\n",
              "      <td>NaN</td>\n",
              "      <td>NaN</td>\n",
              "      <td>NaN</td>\n",
              "      <td>Languages, frameworks, and other technologies ...</td>\n",
              "      <td>NaN</td>\n",
              "      <td>NaN</td>\n",
              "    </tr>\n",
              "    <tr>\n",
              "      <th>9696</th>\n",
              "      <td>Turkey</td>\n",
              "      <td>NaN</td>\n",
              "      <td>Man</td>\n",
              "      <td>Master’s degree (M.A., M.S., M.Eng., MBA, etc.)</td>\n",
              "      <td>Another engineering discipline (such as civil,...</td>\n",
              "      <td>Yes</td>\n",
              "      <td>23.0</td>\n",
              "      <td>4.0</td>\n",
              "      <td>NaN</td>\n",
              "      <td>C;HTML/CSS;Python;SQL</td>\n",
              "      <td>Python</td>\n",
              "      <td>Once a year</td>\n",
              "      <td>Watch help / tutorial videos</td>\n",
              "      <td>Not employed, but looking for work</td>\n",
              "      <td>Data or business analyst;Designer;Developer, b...</td>\n",
              "      <td>NaN</td>\n",
              "      <td>NaN</td>\n",
              "      <td>Industry that I’d be working in;Flex time or a...</td>\n",
              "      <td>NaN</td>\n",
              "      <td>NaN</td>\n",
              "    </tr>\n",
              "    <tr>\n",
              "      <th>5088</th>\n",
              "      <td>United States</td>\n",
              "      <td>28.0</td>\n",
              "      <td>Man</td>\n",
              "      <td>Bachelor’s degree (B.A., B.S., B.Eng., etc.)</td>\n",
              "      <td>Computer science, computer engineering, or sof...</td>\n",
              "      <td>No</td>\n",
              "      <td>18.0</td>\n",
              "      <td>10.0</td>\n",
              "      <td>6.0</td>\n",
              "      <td>HTML/CSS;Ruby;SQL</td>\n",
              "      <td>HTML/CSS;Ruby;SQL</td>\n",
              "      <td>Once a year</td>\n",
              "      <td>Call a coworker or friend;Visit Stack Overflow...</td>\n",
              "      <td>Employed full-time</td>\n",
              "      <td>Developer, full-stack</td>\n",
              "      <td>40.0</td>\n",
              "      <td>Very satisfied</td>\n",
              "      <td>Industry that I’d be working in;Languages, fra...</td>\n",
              "      <td>Rarely: 1-2 days per year or less</td>\n",
              "      <td>Critically important</td>\n",
              "    </tr>\n",
              "    <tr>\n",
              "      <th>4873</th>\n",
              "      <td>Australia</td>\n",
              "      <td>NaN</td>\n",
              "      <td>Man</td>\n",
              "      <td>Bachelor’s degree (B.A., B.S., B.Eng., etc.)</td>\n",
              "      <td>Another engineering discipline (such as civil,...</td>\n",
              "      <td>No</td>\n",
              "      <td>18.0</td>\n",
              "      <td>6.0</td>\n",
              "      <td>3.0</td>\n",
              "      <td>C++;Dart</td>\n",
              "      <td>HTML/CSS;JavaScript</td>\n",
              "      <td>Once every few years</td>\n",
              "      <td>Call a coworker or friend;Visit Stack Overflow...</td>\n",
              "      <td>Employed full-time</td>\n",
              "      <td>Developer, back-end;Developer, desktop or ente...</td>\n",
              "      <td>38.0</td>\n",
              "      <td>Slightly dissatisfied</td>\n",
              "      <td>Flex time or a flexible schedule;Languages, fr...</td>\n",
              "      <td>Never</td>\n",
              "      <td>Not at all important/not necessary</td>\n",
              "    </tr>\n",
              "    <tr>\n",
              "      <th>964</th>\n",
              "      <td>United States</td>\n",
              "      <td>28.0</td>\n",
              "      <td>Man</td>\n",
              "      <td>I never completed any formal education</td>\n",
              "      <td>NaN</td>\n",
              "      <td>Yes</td>\n",
              "      <td>9.0</td>\n",
              "      <td>19.0</td>\n",
              "      <td>NaN</td>\n",
              "      <td>C#;HTML/CSS;JavaScript;Python;Ruby;SQL;TypeScript</td>\n",
              "      <td>C#;Dart;Go;Haskell;Kotlin;Python;Rust;TypeScript</td>\n",
              "      <td>NaN</td>\n",
              "      <td>Play games;Call a coworker or friend;Visit Sta...</td>\n",
              "      <td>Employed part-time</td>\n",
              "      <td>Designer;Developer, desktop or enterprise appl...</td>\n",
              "      <td>NaN</td>\n",
              "      <td>NaN</td>\n",
              "      <td>NaN</td>\n",
              "      <td>NaN</td>\n",
              "      <td>NaN</td>\n",
              "    </tr>\n",
              "    <tr>\n",
              "      <th>8131</th>\n",
              "      <td>Switzerland</td>\n",
              "      <td>37.0</td>\n",
              "      <td>Man</td>\n",
              "      <td>Bachelor’s degree (B.A., B.S., B.Eng., etc.)</td>\n",
              "      <td>Computer science, computer engineering, or sof...</td>\n",
              "      <td>Yes</td>\n",
              "      <td>16.0</td>\n",
              "      <td>22.0</td>\n",
              "      <td>8.0</td>\n",
              "      <td>C#;C++;HTML/CSS;Java;JavaScript;PHP</td>\n",
              "      <td>C++;HTML/CSS;Java;JavaScript;PHP;Python</td>\n",
              "      <td>Once a year</td>\n",
              "      <td>Call a coworker or friend;Visit Stack Overflow...</td>\n",
              "      <td>Employed full-time</td>\n",
              "      <td>Educator</td>\n",
              "      <td>5.0</td>\n",
              "      <td>Very dissatisfied</td>\n",
              "      <td>Languages, frameworks, and other technologies ...</td>\n",
              "      <td>Occasionally: 1-2 days per quarter but less th...</td>\n",
              "      <td>Very important</td>\n",
              "    </tr>\n",
              "    <tr>\n",
              "      <th>15364</th>\n",
              "      <td>United Kingdom</td>\n",
              "      <td>30.0</td>\n",
              "      <td>Man</td>\n",
              "      <td>Master’s degree (M.A., M.S., M.Eng., MBA, etc.)</td>\n",
              "      <td>A humanities discipline (such as literature, h...</td>\n",
              "      <td>Yes</td>\n",
              "      <td>25.0</td>\n",
              "      <td>5.0</td>\n",
              "      <td>5.0</td>\n",
              "      <td>Bash/Shell/PowerShell;C#;Java;JavaScript;R;SQL</td>\n",
              "      <td>NaN</td>\n",
              "      <td>Once a year</td>\n",
              "      <td>Visit Stack Overflow;Go for a walk or other ph...</td>\n",
              "      <td>Employed full-time</td>\n",
              "      <td>Developer, back-end;Developer, desktop or ente...</td>\n",
              "      <td>37.0</td>\n",
              "      <td>Very satisfied</td>\n",
              "      <td>Remote work options;Office environment or comp...</td>\n",
              "      <td>Sometimes: 1-2 days per month but less than we...</td>\n",
              "      <td>Not at all important/not necessary</td>\n",
              "    </tr>\n",
              "  </tbody>\n",
              "</table>\n",
              "</div>\n",
              "      <button class=\"colab-df-convert\" onclick=\"convertToInteractive('df-2ee54f6d-82c3-4f96-886a-35018358c662')\"\n",
              "              title=\"Convert this dataframe to an interactive table.\"\n",
              "              style=\"display:none;\">\n",
              "        \n",
              "  <svg xmlns=\"http://www.w3.org/2000/svg\" height=\"24px\"viewBox=\"0 0 24 24\"\n",
              "       width=\"24px\">\n",
              "    <path d=\"M0 0h24v24H0V0z\" fill=\"none\"/>\n",
              "    <path d=\"M18.56 5.44l.94 2.06.94-2.06 2.06-.94-2.06-.94-.94-2.06-.94 2.06-2.06.94zm-11 1L8.5 8.5l.94-2.06 2.06-.94-2.06-.94L8.5 2.5l-.94 2.06-2.06.94zm10 10l.94 2.06.94-2.06 2.06-.94-2.06-.94-.94-2.06-.94 2.06-2.06.94z\"/><path d=\"M17.41 7.96l-1.37-1.37c-.4-.4-.92-.59-1.43-.59-.52 0-1.04.2-1.43.59L10.3 9.45l-7.72 7.72c-.78.78-.78 2.05 0 2.83L4 21.41c.39.39.9.59 1.41.59.51 0 1.02-.2 1.41-.59l7.78-7.78 2.81-2.81c.8-.78.8-2.07 0-2.86zM5.41 20L4 18.59l7.72-7.72 1.47 1.35L5.41 20z\"/>\n",
              "  </svg>\n",
              "      </button>\n",
              "      \n",
              "  <style>\n",
              "    .colab-df-container {\n",
              "      display:flex;\n",
              "      flex-wrap:wrap;\n",
              "      gap: 12px;\n",
              "    }\n",
              "\n",
              "    .colab-df-convert {\n",
              "      background-color: #E8F0FE;\n",
              "      border: none;\n",
              "      border-radius: 50%;\n",
              "      cursor: pointer;\n",
              "      display: none;\n",
              "      fill: #1967D2;\n",
              "      height: 32px;\n",
              "      padding: 0 0 0 0;\n",
              "      width: 32px;\n",
              "    }\n",
              "\n",
              "    .colab-df-convert:hover {\n",
              "      background-color: #E2EBFA;\n",
              "      box-shadow: 0px 1px 2px rgba(60, 64, 67, 0.3), 0px 1px 3px 1px rgba(60, 64, 67, 0.15);\n",
              "      fill: #174EA6;\n",
              "    }\n",
              "\n",
              "    [theme=dark] .colab-df-convert {\n",
              "      background-color: #3B4455;\n",
              "      fill: #D2E3FC;\n",
              "    }\n",
              "\n",
              "    [theme=dark] .colab-df-convert:hover {\n",
              "      background-color: #434B5C;\n",
              "      box-shadow: 0px 1px 3px 1px rgba(0, 0, 0, 0.15);\n",
              "      filter: drop-shadow(0px 1px 2px rgba(0, 0, 0, 0.3));\n",
              "      fill: #FFFFFF;\n",
              "    }\n",
              "  </style>\n",
              "\n",
              "      <script>\n",
              "        const buttonEl =\n",
              "          document.querySelector('#df-2ee54f6d-82c3-4f96-886a-35018358c662 button.colab-df-convert');\n",
              "        buttonEl.style.display =\n",
              "          google.colab.kernel.accessAllowed ? 'block' : 'none';\n",
              "\n",
              "        async function convertToInteractive(key) {\n",
              "          const element = document.querySelector('#df-2ee54f6d-82c3-4f96-886a-35018358c662');\n",
              "          const dataTable =\n",
              "            await google.colab.kernel.invokeFunction('convertToInteractive',\n",
              "                                                     [key], {});\n",
              "          if (!dataTable) return;\n",
              "\n",
              "          const docLinkHtml = 'Like what you see? Visit the ' +\n",
              "            '<a target=\"_blank\" href=https://colab.research.google.com/notebooks/data_table.ipynb>data table notebook</a>'\n",
              "            + ' to learn more about interactive tables.';\n",
              "          element.innerHTML = '';\n",
              "          dataTable['output_type'] = 'display_data';\n",
              "          await google.colab.output.renderOutput(dataTable, element);\n",
              "          const docLink = document.createElement('div');\n",
              "          docLink.innerHTML = docLinkHtml;\n",
              "          element.appendChild(docLink);\n",
              "        }\n",
              "      </script>\n",
              "    </div>\n",
              "  </div>\n",
              "  "
            ]
          },
          "metadata": {},
          "execution_count": 23
        }
      ],
      "source": [
        "survey_df.sample(10)"
      ]
    },
    {
      "cell_type": "markdown",
      "metadata": {
        "id": "BR9LmioRm4ik"
      },
      "source": [
        "## Exploratory Analysis and Visualization\n",
        "\n",
        "Before we ask questions about the survey responses, it would help to understand the respondents' demographics, i.e., country, age, gender, education level, employment level, etc. It's essential to explore these variables to understand how representative the survey is of the worldwide programming community. A survey of this scale generally tends to have some selection bias.\n",
        "\n",
        "Let's begin by importing `matplotlib.pyplot` and `seaborn`."
      ]
    },
    {
      "cell_type": "code",
      "execution_count": 24,
      "metadata": {
        "id": "1YKzlG-Rm4il"
      },
      "outputs": [],
      "source": [
        "import seaborn as sns\n",
        "import matplotlib\n",
        "import matplotlib.pyplot as plt\n",
        "%matplotlib inline\n",
        "\n",
        "sns.set_style('darkgrid')\n",
        "matplotlib.rcParams['font.size'] = 14\n",
        "matplotlib.rcParams['figure.figsize'] = (9, 5)\n",
        "matplotlib.rcParams['figure.facecolor'] = '#00000000'"
      ]
    },
    {
      "cell_type": "markdown",
      "metadata": {
        "id": "eJM66C1Mm4il"
      },
      "source": [
        "### Country\n",
        "\n",
        "Let's look at the number of countries from which there are responses in the survey and plot the ten countries with the highest number of responses."
      ]
    },
    {
      "cell_type": "code",
      "execution_count": 25,
      "metadata": {
        "colab": {
          "base_uri": "https://localhost:8080/",
          "height": 35
        },
        "id": "XrWQxcXOm4im",
        "outputId": "9c6b76a2-88c5-4c6e-da0d-3ce929290aa8"
      },
      "outputs": [
        {
          "output_type": "execute_result",
          "data": {
            "text/plain": [
              "'Where do you live?'"
            ],
            "application/vnd.google.colaboratory.intrinsic+json": {
              "type": "string"
            }
          },
          "metadata": {},
          "execution_count": 25
        }
      ],
      "source": [
        "schema.Country"
      ]
    },
    {
      "cell_type": "code",
      "execution_count": 26,
      "metadata": {
        "colab": {
          "base_uri": "https://localhost:8080/"
        },
        "id": "Ogbs6jEtm4im",
        "outputId": "9bdce6fe-7a4b-432c-d2b5-862f031f0881"
      },
      "outputs": [
        {
          "output_type": "execute_result",
          "data": {
            "text/plain": [
              "157"
            ]
          },
          "metadata": {},
          "execution_count": 26
        }
      ],
      "source": [
        "survey_df.Country.nunique()"
      ]
    },
    {
      "cell_type": "markdown",
      "metadata": {
        "id": "ZdZAnAGsm4in"
      },
      "source": [
        "We can identify the countries with the highest number of respondents using the `value_counts` method."
      ]
    },
    {
      "cell_type": "code",
      "execution_count": 27,
      "metadata": {
        "colab": {
          "base_uri": "https://localhost:8080/"
        },
        "id": "44ucswDfm4in",
        "outputId": "b81b747c-108a-445c-e404-b10fea931acb"
      },
      "outputs": [
        {
          "output_type": "execute_result",
          "data": {
            "text/plain": [
              "United States         4874\n",
              "India                 2562\n",
              "Germany               1361\n",
              "United Kingdom        1356\n",
              "Canada                 868\n",
              "France                 657\n",
              "Brazil                 601\n",
              "Netherlands            466\n",
              "Australia              451\n",
              "Spain                  430\n",
              "Italy                  415\n",
              "Poland                 409\n",
              "Russian Federation     372\n",
              "Turkey                 293\n",
              "Sweden                 286\n",
              "Name: Country, dtype: int64"
            ]
          },
          "metadata": {},
          "execution_count": 27
        }
      ],
      "source": [
        "top_countries = survey_df.Country.value_counts().head(15)\n",
        "top_countries"
      ]
    },
    {
      "cell_type": "markdown",
      "metadata": {
        "id": "RqzCOGO3m4io"
      },
      "source": [
        "We can visualize this information using a bar chart."
      ]
    },
    {
      "cell_type": "code",
      "execution_count": 28,
      "metadata": {
        "colab": {
          "base_uri": "https://localhost:8080/",
          "height": 517
        },
        "id": "eO6VhZcgm4io",
        "outputId": "f805f6c7-a85d-4fcf-a9d2-690fa7bd35e6"
      },
      "outputs": [
        {
          "output_type": "display_data",
          "data": {
            "text/plain": [
              "<Figure size 864x432 with 1 Axes>"
            ],
            "image/png": "[encoded data removed]"
          },
          "metadata": {
            "needs_background": "light"
          }
        }
      ],
      "source": [
        "plt.figure(figsize=(12,6))\n",
        "plt.xticks(rotation=75)\n",
        "plt.title(schema.Country)\n",
        "sns.barplot(x=top_countries.index, y=top_countries);"
      ]
    },
    {
      "cell_type": "markdown",
      "metadata": {
        "id": "PcZzJ-INm4ip"
      },
      "source": [
        "It appears that a disproportionately high number of respondents are from the US and India, probably because the survey is in English, and these countries have the highest English-speaking populations. We can already see that the survey may not be representative of the global programming community - especially from non-English speaking countries. Programmers from non-English speaking countries are almost certainly underrepresented."
      ]
    },
    {
      "cell_type": "markdown",
      "metadata": {
        "id": "FWPrYnRHm4ip"
      },
      "source": [
        "### Age\n",
        "\n",
        "The distribution of respondents' age is another crucial factor to look at. We can use a histogram to visualize it. "
      ]
    },
    {
      "cell_type": "code",
      "execution_count": 29,
      "metadata": {
        "colab": {
          "base_uri": "https://localhost:8080/",
          "height": 416
        },
        "id": "PjwNbT9_m4iq",
        "outputId": "d0db4982-6e50-4788-9296-0e009147b672"
      },
      "outputs": [
        {
          "output_type": "display_data",
          "data": {
            "text/plain": [
              "<Figure size 864x432 with 1 Axes>"
            ],
            "image/png": "[encoded data removed]"
          },
          "metadata": {
            "needs_background": "light"
          }
        }
      ],
      "source": [
        "plt.figure(figsize=(12, 6))\n",
        "plt.title(schema.Age)\n",
        "plt.xlabel('Age')\n",
        "plt.ylabel('Number of respondents')\n",
        "\n",
        "plt.hist(survey_df.Age, bins=np.arange(10,80,5), color='purple');"
      ]
    },
    {
      "cell_type": "markdown",
      "metadata": {
        "id": "fcDxgks4m4ir"
      },
      "source": [
        "It appears that a large percentage of respondents are 20-45 years old. It's somewhat representative of the programming community in general. Many young people have taken up computer science as their field of study or profession in the last 20 years.\n"
      ]
    },
    {
      "cell_type": "markdown",
      "metadata": {
        "id": "N3gtAqXJm4ir"
      },
      "source": [
        "### Gender\n",
        "\n",
        "Let's look at the distribution of responses for the Gender. It's a well-known fact that women and non-binary genders are underrepresented in the programming community, so we might expect to see a skewed distribution here."
      ]
    },
    {
      "cell_type": "code",
      "execution_count": 30,
      "metadata": {
        "colab": {
          "base_uri": "https://localhost:8080/",
          "height": 53
        },
        "id": "-lfOFO4Vm4ir",
        "outputId": "1be8c618-81be-44ad-ef94-df412a124b23"
      },
      "outputs": [
        {
          "output_type": "execute_result",
          "data": {
            "text/plain": [
              "'Which of the following describe you, if any? Please check all that apply. If you prefer not to answer, you may leave this question blank.'"
            ],
            "application/vnd.google.colaboratory.intrinsic+json": {
              "type": "string"
            }
          },
          "metadata": {},
          "execution_count": 30
        }
      ],
      "source": [
        "schema.Gender"
      ]
    },
    {
      "cell_type": "code",
      "execution_count": 31,
      "metadata": {
        "colab": {
          "base_uri": "https://localhost:8080/"
        },
        "id": "xa5yKNDtm4is",
        "outputId": "d32ce2ec-dfd8-496a-af82-f567ac282a2c"
      },
      "outputs": [
        {
          "output_type": "execute_result",
          "data": {
            "text/plain": [
              "Man                                                  19477\n",
              "Woman                                                 1359\n",
              "Non-binary, genderqueer, or gender non-conforming      140\n",
              "Name: Gender, dtype: int64"
            ]
          },
          "metadata": {},
          "execution_count": 31
        }
      ],
      "source": [
        "gender_counts = survey_df.Gender.value_counts()\n",
        "gender_counts"
      ]
    },
    {
      "cell_type": "markdown",
      "metadata": {
        "id": "Kohaq9Fvm4it"
      },
      "source": [
        "A pie chart would be a great way to visualize the distribution."
      ]
    },
    {
      "cell_type": "code",
      "execution_count": 32,
      "metadata": {
        "colab": {
          "base_uri": "https://localhost:8080/",
          "height": 314
        },
        "id": "w4Ec_tu_m4it",
        "outputId": "fbfcd8da-e412-49e3-db90-f953491cc093"
      },
      "outputs": [
        {
          "output_type": "display_data",
          "data": {
            "text/plain": [
              "<Figure size 864x432 with 1 Axes>"
            ],
            "image/png": "[encoded data removed]"
          },
          "metadata": {}
        }
      ],
      "source": [
        "plt.figure(figsize=(12,6))\n",
        "plt.title(schema.Gender)\n",
        "plt.pie(gender_counts, labels=gender_counts.index, autopct='%1.1f%%', startangle=180);"
      ]
    },
    {
      "cell_type": "markdown",
      "metadata": {
        "id": "tBVCu21Um4iu"
      },
      "source": [
        "Only about 8% of survey respondents who have answered the question identify as women or non-binary. This number is lower than the overall percentage of women & non-binary genders in the programming community - which is estimated to be around 12%. "
      ]
    },
    {
      "cell_type": "markdown",
      "metadata": {
        "id": "KHZ3HMQlm4iu"
      },
      "source": [
        "### Education Level\n",
        "\n",
        "Formal education in computer science is often considered an essential requirement for becoming a programmer. However, there are many free resources & tutorials available online to learn programming. Let's compare the education levels of respondents to gain some insight into this. We'll use a horizontal bar plot here."
      ]
    },
    {
      "cell_type": "code",
      "execution_count": 33,
      "metadata": {
        "colab": {
          "base_uri": "https://localhost:8080/",
          "height": 292
        },
        "id": "k3_t9Caxm4iv",
        "outputId": "862813d8-43c8-4835-a826-f0bc981c7939"
      },
      "outputs": [
        {
          "output_type": "display_data",
          "data": {
            "text/plain": [
              "<Figure size 648x360 with 1 Axes>"
            ],
            "image/png": "[encoded data removed]"
          },
          "metadata": {
            "needs_background": "light"
          }
        }
      ],
      "source": [
        "sns.countplot(y=survey_df.EdLevel)\n",
        "plt.xticks(rotation=75);\n",
        "plt.title(schema['EdLevel'])\n",
        "plt.ylabel(None);"
      ]
    },
    {
      "cell_type": "markdown",
      "metadata": {
        "id": "zDn7NnJLm4iv"
      },
      "source": [
        "It appears that well over half of the respondents hold a bachelor's or master's degree, so most programmers seem to have some college education. However, it's not clear from this graph alone if they hold a degree in computer science. "
      ]
    },
    {
      "cell_type": "markdown",
      "metadata": {
        "id": "uX5rQxKRm4iw"
      },
      "source": [
        "Let's also plot undergraduate majors, but this time we'll convert the numbers into percentages and sort the values to make it easier to visualize the order."
      ]
    },
    {
      "cell_type": "code",
      "execution_count": 36,
      "metadata": {
        "colab": {
          "base_uri": "https://localhost:8080/",
          "height": 35
        },
        "id": "Q2za8eoTm4ix",
        "outputId": "31fa5a4d-3d2c-4dc4-bc01-3dd57e6d7c17"
      },
      "outputs": [
        {
          "output_type": "execute_result",
          "data": {
            "text/plain": [
              "'What was your primary field of study?'"
            ],
            "application/vnd.google.colaboratory.intrinsic+json": {
              "type": "string"
            }
          },
          "metadata": {},
          "execution_count": 36
        }
      ],
      "source": [
        "schema.UndergradMajor"
      ]
    },
    {
      "cell_type": "code",
      "execution_count": 37,
      "metadata": {
        "colab": {
          "base_uri": "https://localhost:8080/",
          "height": 326
        },
        "id": "dHAASNL2m4ix",
        "outputId": "093cee18-8ede-44d8-9574-b01261b94bea"
      },
      "outputs": [
        {
          "output_type": "display_data",
          "data": {
            "text/plain": [
              "<Figure size 648x360 with 1 Axes>"
            ],
            "image/png": "[encoded data removed]"
          },
          "metadata": {
            "needs_background": "light"
          }
        }
      ],
      "source": [
        "undergrad_pct = survey_df.UndergradMajor.value_counts() * 100 / survey_df.UndergradMajor.count()\n",
        "\n",
        "sns.barplot(x=undergrad_pct, y=undergrad_pct.index)\n",
        "\n",
        "plt.title(schema.UndergradMajor)\n",
        "plt.ylabel(None);\n",
        "plt.xlabel('Percentage');"
      ]
    },
    {
      "cell_type": "markdown",
      "metadata": {
        "id": "Wq3PM8c9m4iy"
      },
      "source": [
        "It turns out that 40% of programmers holding a college degree have a field of study other than computer science - which is very encouraging. It seems to suggest that while a college education is helpful in general, you do not need to pursue a major in computer science to become a successful programmer.\n"
      ]
    },
    {
      "cell_type": "markdown",
      "metadata": {
        "id": "bm_SRUrHm4iy"
      },
      "source": [
        "### Employment\n",
        "\n",
        "Freelancing or contract work is a common choice among programmers, so it would be interesting to compare the breakdown between full-time, part-time, and freelance work. Let's visualize the data from the `Employment` column."
      ]
    },
    {
      "cell_type": "code",
      "execution_count": 38,
      "metadata": {
        "colab": {
          "base_uri": "https://localhost:8080/",
          "height": 35
        },
        "id": "EJqsxR62m4iz",
        "outputId": "8e308fb8-60b9-4354-9753-4361adb5e0ac"
      },
      "outputs": [
        {
          "output_type": "execute_result",
          "data": {
            "text/plain": [
              "'Which of the following best describes your current employment status?'"
            ],
            "application/vnd.google.colaboratory.intrinsic+json": {
              "type": "string"
            }
          },
          "metadata": {},
          "execution_count": 38
        }
      ],
      "source": [
        "schema.Employment"
      ]
    },
    {
      "cell_type": "code",
      "execution_count": 39,
      "metadata": {
        "colab": {
          "base_uri": "https://localhost:8080/",
          "height": 362
        },
        "id": "oLWX0EDlm4iz",
        "outputId": "697fe15c-c374-4cf3-dc59-349510ec774e"
      },
      "outputs": [
        {
          "output_type": "display_data",
          "data": {
            "text/plain": [
              "<Figure size 648x360 with 1 Axes>"
            ],
            "image/png": "[encoded data removed]"
          },
          "metadata": {
            "needs_background": "light"
          }
        }
      ],
      "source": [
        "(survey_df.Employment.value_counts(normalize=True, ascending=True)*100).plot(kind='barh', color='g')\n",
        "plt.title(schema.Employment)\n",
        "plt.xlabel('Percentage');"
      ]
    },
    {
      "cell_type": "markdown",
      "metadata": {
        "id": "cJEwnNc_m4i0"
      },
      "source": [
        "It appears that close to 10% of respondents are employed part time or as freelancers.\n",
        " comparison between `Enthusiast` and `Professional`."
      ]
    },
    {
      "cell_type": "markdown",
      "metadata": {
        "id": "5zhCx1Nxm4i0"
      },
      "source": [
        "The `DevType` field contains information about the roles held by respondents. Since the question allows multiple answers, the column contains lists of values separated by a semi-colon `;`, making it a bit harder to analyze directly."
      ]
    },
    {
      "cell_type": "code",
      "execution_count": 40,
      "metadata": {
        "colab": {
          "base_uri": "https://localhost:8080/",
          "height": 35
        },
        "id": "AcjRg9Hdm4i1",
        "outputId": "c6c8e329-21d3-4bd8-a54d-2dad083cc7f0"
      },
      "outputs": [
        {
          "output_type": "execute_result",
          "data": {
            "text/plain": [
              "'Which of the following describe you? Please select all that apply.'"
            ],
            "application/vnd.google.colaboratory.intrinsic+json": {
              "type": "string"
            }
          },
          "metadata": {},
          "execution_count": 40
        }
      ],
      "source": [
        "schema.DevType"
      ]
    },
    {
      "cell_type": "code",
      "execution_count": 41,
      "metadata": {
        "colab": {
          "base_uri": "https://localhost:8080/"
        },
        "id": "Eeuryd-cm4i1",
        "outputId": "e8d5119f-99e5-4894-dc41-23661db0aa85"
      },
      "outputs": [
        {
          "output_type": "execute_result",
          "data": {
            "text/plain": [
              "Developer, full-stack                                                                                                                                                                                                                                                                                   1729\n",
              "Developer, back-end                                                                                                                                                                                                                                                                                     1099\n",
              "Developer, back-end;Developer, front-end;Developer, full-stack                                                                                                                                                                                                                                           886\n",
              "Developer, back-end;Developer, full-stack                                                                                                                                                                                                                                                                569\n",
              "Developer, mobile                                                                                                                                                                                                                                                                                        544\n",
              "                                                                                                                                                                                                                                                                                                        ... \n",
              "Data or business analyst;Data scientist or machine learning specialist;Developer, back-end;Developer, front-end;Engineer, data;Scientist                                                                                                                                                                   1\n",
              "Database administrator;Developer, back-end;Developer, full-stack;Developer, game or graphics;Developer, mobile;Developer, QA or test;Engineer, site reliability                                                                                                                                            1\n",
              "Data scientist or machine learning specialist;Developer, back-end;Developer, desktop or enterprise applications;Developer, embedded applications or devices;Developer, full-stack;Developer, mobile                                                                                                        1\n",
              "Academic researcher;Database administrator;Developer, back-end;Developer, front-end;Developer, full-stack;Developer, game or graphics;Developer, QA or test;DevOps specialist                                                                                                                              1\n",
              "Academic researcher;Data or business analyst;Data scientist or machine learning specialist;Database administrator;Developer, back-end;Developer, desktop or enterprise applications;Developer, QA or test;DevOps specialist;Engineer, data;Engineer, site reliability;Scientist;System administrator       1\n",
              "Name: DevType, Length: 4194, dtype: int64"
            ]
          },
          "metadata": {},
          "execution_count": 41
        }
      ],
      "source": [
        "survey_df.DevType.value_counts()"
      ]
    },
    {
      "cell_type": "markdown",
      "metadata": {
        "id": "p_lw3hHLm4i2"
      },
      "source": [
        "Let's define a helper function that turns a column containing lists of values (like `survey_df.DevType`) into a data frame with one column for each possible option."
      ]
    },
    {
      "cell_type": "code",
      "execution_count": 42,
      "metadata": {
        "id": "kseKhgBqm4i2"
      },
      "outputs": [],
      "source": [
        "def split_multicolumn(col_series):\n",
        "    result_df = col_series.to_frame()\n",
        "    options = []\n",
        "    # Iterate over the column\n",
        "    for idx, value  in col_series[col_series.notnull()].iteritems():\n",
        "        # Break each value into list of options\n",
        "        for option in value.split(';'):\n",
        "            # Add the option as a column to result\n",
        "            if not option in result_df.columns:\n",
        "                options.append(option)\n",
        "                result_df[option] = False\n",
        "            # Mark the value in the option column as True\n",
        "            result_df.at[idx, option] = True\n",
        "    return result_df[options]"
      ]
    },
    {
      "cell_type": "code",
      "execution_count": 43,
      "metadata": {
        "id": "6osB1SF5m4i3"
      },
      "outputs": [],
      "source": [
        "dev_type_df = split_multicolumn(survey_df.DevType)"
      ]
    },
    {
      "cell_type": "code",
      "execution_count": 44,
      "metadata": {
        "colab": {
          "base_uri": "https://localhost:8080/",
          "height": 557
        },
        "id": "XdggXHHHm4i3",
        "outputId": "d334f1d8-dc79-4bb4-8acd-06ef27daac3b"
      },
      "outputs": [
        {
          "output_type": "execute_result",
          "data": {
            "text/plain": [
              "       Developer, desktop or enterprise applications  Developer, full-stack  \\\n",
              "0                                               True                   True   \n",
              "1                                              False                   True   \n",
              "2                                              False                  False   \n",
              "3                                              False                  False   \n",
              "4                                              False                  False   \n",
              "...                                              ...                    ...   \n",
              "22132                                           True                   True   \n",
              "22133                                          False                  False   \n",
              "22134                                          False                   True   \n",
              "22135                                          False                  False   \n",
              "22136                                           True                  False   \n",
              "\n",
              "       Developer, mobile  Designer  Developer, front-end  Developer, back-end  \\\n",
              "0                  False     False                 False                False   \n",
              "1                   True     False                 False                False   \n",
              "2                  False     False                 False                False   \n",
              "3                  False     False                 False                False   \n",
              "4                  False     False                 False                False   \n",
              "...                  ...       ...                   ...                  ...   \n",
              "22132              False     False                  True                 True   \n",
              "22133               True     False                 False                 True   \n",
              "22134              False     False                 False                False   \n",
              "22135              False     False                 False                 True   \n",
              "22136              False     False                 False                 True   \n",
              "\n",
              "       Developer, QA or test  DevOps specialist  Developer, game or graphics  \\\n",
              "0                      False              False                        False   \n",
              "1                      False              False                        False   \n",
              "2                      False              False                        False   \n",
              "3                      False              False                        False   \n",
              "4                      False              False                        False   \n",
              "...                      ...                ...                          ...   \n",
              "22132                  False               True                         True   \n",
              "22133                  False              False                        False   \n",
              "22134                  False              False                        False   \n",
              "22135                  False              False                        False   \n",
              "22136                   True               True                        False   \n",
              "\n",
              "       Database administrator  ...  System administrator  Engineering manager  \\\n",
              "0                       False  ...                 False                False   \n",
              "1                       False  ...                 False                False   \n",
              "2                       False  ...                 False                False   \n",
              "3                       False  ...                 False                False   \n",
              "4                       False  ...                 False                False   \n",
              "...                       ...  ...                   ...                  ...   \n",
              "22132                   False  ...                  True                False   \n",
              "22133                   False  ...                 False                False   \n",
              "22134                   False  ...                 False                False   \n",
              "22135                   False  ...                 False                 True   \n",
              "22136                    True  ...                  True                False   \n",
              "\n",
              "       Product manager  Data or business analyst  Academic researcher  \\\n",
              "0                False                     False                False   \n",
              "1                False                     False                False   \n",
              "2                False                     False                False   \n",
              "3                False                     False                False   \n",
              "4                False                     False                False   \n",
              "...                ...                       ...                  ...   \n",
              "22132            False                     False                False   \n",
              "22133            False                     False                False   \n",
              "22134            False                     False                False   \n",
              "22135            False                     False                False   \n",
              "22136            False                      True                 True   \n",
              "\n",
              "       Data scientist or machine learning specialist  Scientist  \\\n",
              "0                                              False      False   \n",
              "1                                              False      False   \n",
              "2                                              False      False   \n",
              "3                                              False      False   \n",
              "4                                              False      False   \n",
              "...                                              ...        ...   \n",
              "22132                                          False      False   \n",
              "22133                                          False      False   \n",
              "22134                                          False      False   \n",
              "22135                                          False      False   \n",
              "22136                                           True       True   \n",
              "\n",
              "       Senior executive/VP  Engineer, site reliability  \\\n",
              "0                    False                       False   \n",
              "1                    False                       False   \n",
              "2                    False                       False   \n",
              "3                    False                       False   \n",
              "4                    False                       False   \n",
              "...                    ...                         ...   \n",
              "22132                False                       False   \n",
              "22133                False                       False   \n",
              "22134                False                       False   \n",
              "22135                False                       False   \n",
              "22136                False                        True   \n",
              "\n",
              "       Marketing or sales professional  \n",
              "0                                False  \n",
              "1                                False  \n",
              "2                                False  \n",
              "3                                False  \n",
              "4                                False  \n",
              "...                                ...  \n",
              "22132                            False  \n",
              "22133                            False  \n",
              "22134                            False  \n",
              "22135                            False  \n",
              "22136                            False  \n",
              "\n",
              "[22086 rows x 23 columns]"
            ],
            "text/html": [
              "\n",
              "  <div id=\"df-73f9949a-fe0c-47d3-9dce-7edc75883f29\">\n",
              "    <div class=\"colab-df-container\">\n",
              "      <div>\n",
              "<style scoped>\n",
              "    .dataframe tbody tr th:only-of-type {\n",
              "        vertical-align: middle;\n",
              "    }\n",
              "\n",
              "    .dataframe tbody tr th {\n",
              "        vertical-align: top;\n",
              "    }\n",
              "\n",
              "    .dataframe thead th {\n",
              "        text-align: right;\n",
              "    }\n",
              "</style>\n",
              "<table border=\"1\" class=\"dataframe\">\n",
              "  <thead>\n",
              "    <tr style=\"text-align: right;\">\n",
              "      <th></th>\n",
              "      <th>Developer, desktop or enterprise applications</th>\n",
              "      <th>Developer, full-stack</th>\n",
              "      <th>Developer, mobile</th>\n",
              "      <th>Designer</th>\n",
              "      <th>Developer, front-end</th>\n",
              "      <th>Developer, back-end</th>\n",
              "      <th>Developer, QA or test</th>\n",
              "      <th>DevOps specialist</th>\n",
              "      <th>Developer, game or graphics</th>\n",
              "      <th>Database administrator</th>\n",
              "      <th>...</th>\n",
              "      <th>System administrator</th>\n",
              "      <th>Engineering manager</th>\n",
              "      <th>Product manager</th>\n",
              "      <th>Data or business analyst</th>\n",
              "      <th>Academic researcher</th>\n",
              "      <th>Data scientist or machine learning specialist</th>\n",
              "      <th>Scientist</th>\n",
              "      <th>Senior executive/VP</th>\n",
              "      <th>Engineer, site reliability</th>\n",
              "      <th>Marketing or sales professional</th>\n",
              "    </tr>\n",
              "  </thead>\n",
              "  <tbody>\n",
              "    <tr>\n",
              "      <th>0</th>\n",
              "      <td>True</td>\n",
              "      <td>True</td>\n",
              "      <td>False</td>\n",
              "      <td>False</td>\n",
              "      <td>False</td>\n",
              "      <td>False</td>\n",
              "      <td>False</td>\n",
              "      <td>False</td>\n",
              "      <td>False</td>\n",
              "      <td>False</td>\n",
              "      <td>...</td>\n",
              "      <td>False</td>\n",
              "      <td>False</td>\n",
              "      <td>False</td>\n",
              "      <td>False</td>\n",
              "      <td>False</td>\n",
              "      <td>False</td>\n",
              "      <td>False</td>\n",
              "      <td>False</td>\n",
              "      <td>False</td>\n",
              "      <td>False</td>\n",
              "    </tr>\n",
              "    <tr>\n",
              "      <th>1</th>\n",
              "      <td>False</td>\n",
              "      <td>True</td>\n",
              "      <td>True</td>\n",
              "      <td>False</td>\n",
              "      <td>False</td>\n",
              "      <td>False</td>\n",
              "      <td>False</td>\n",
              "      <td>False</td>\n",
              "      <td>False</td>\n",
              "      <td>False</td>\n",
              "      <td>...</td>\n",
              "      <td>False</td>\n",
              "      <td>False</td>\n",
              "      <td>False</td>\n",
              "      <td>False</td>\n",
              "      <td>False</td>\n",
              "      <td>False</td>\n",
              "      <td>False</td>\n",
              "      <td>False</td>\n",
              "      <td>False</td>\n",
              "      <td>False</td>\n",
              "    </tr>\n",
              "    <tr>\n",
              "      <th>2</th>\n",
              "      <td>False</td>\n",
              "      <td>False</td>\n",
              "      <td>False</td>\n",
              "      <td>False</td>\n",
              "      <td>False</td>\n",
              "      <td>False</td>\n",
              "      <td>False</td>\n",
              "      <td>False</td>\n",
              "      <td>False</td>\n",
              "      <td>False</td>\n",
              "      <td>...</td>\n",
              "      <td>False</td>\n",
              "      <td>False</td>\n",
              "      <td>False</td>\n",
              "      <td>False</td>\n",
              "      <td>False</td>\n",
              "      <td>False</td>\n",
              "      <td>False</td>\n",
              "      <td>False</td>\n",
              "      <td>False</td>\n",
              "      <td>False</td>\n",
              "    </tr>\n",
              "    <tr>\n",
              "      <th>3</th>\n",
              "      <td>False</td>\n",
              "      <td>False</td>\n",
              "      <td>False</td>\n",
              "      <td>False</td>\n",
              "      <td>False</td>\n",
              "      <td>False</td>\n",
              "      <td>False</td>\n",
              "      <td>False</td>\n",
              "      <td>False</td>\n",
              "      <td>False</td>\n",
              "      <td>...</td>\n",
              "      <td>False</td>\n",
              "      <td>False</td>\n",
              "      <td>False</td>\n",
              "      <td>False</td>\n",
              "      <td>False</td>\n",
              "      <td>False</td>\n",
              "      <td>False</td>\n",
              "      <td>False</td>\n",
              "      <td>False</td>\n",
              "      <td>False</td>\n",
              "    </tr>\n",
              "    <tr>\n",
              "      <th>4</th>\n",
              "      <td>False</td>\n",
              "      <td>False</td>\n",
              "      <td>False</td>\n",
              "      <td>False</td>\n",
              "      <td>False</td>\n",
              "      <td>False</td>\n",
              "      <td>False</td>\n",
              "      <td>False</td>\n",
              "      <td>False</td>\n",
              "      <td>False</td>\n",
              "      <td>...</td>\n",
              "      <td>False</td>\n",
              "      <td>False</td>\n",
              "      <td>False</td>\n",
              "      <td>False</td>\n",
              "      <td>False</td>\n",
              "      <td>False</td>\n",
              "      <td>False</td>\n",
              "      <td>False</td>\n",
              "      <td>False</td>\n",
              "      <td>False</td>\n",
              "    </tr>\n",
              "    <tr>\n",
              "      <th>...</th>\n",
              "      <td>...</td>\n",
              "      <td>...</td>\n",
              "      <td>...</td>\n",
              "      <td>...</td>\n",
              "      <td>...</td>\n",
              "      <td>...</td>\n",
              "      <td>...</td>\n",
              "      <td>...</td>\n",
              "      <td>...</td>\n",
              "      <td>...</td>\n",
              "      <td>...</td>\n",
              "      <td>...</td>\n",
              "      <td>...</td>\n",
              "      <td>...</td>\n",
              "      <td>...</td>\n",
              "      <td>...</td>\n",
              "      <td>...</td>\n",
              "      <td>...</td>\n",
              "      <td>...</td>\n",
              "      <td>...</td>\n",
              "      <td>...</td>\n",
              "    </tr>\n",
              "    <tr>\n",
              "      <th>22132</th>\n",
              "      <td>True</td>\n",
              "      <td>True</td>\n",
              "      <td>False</td>\n",
              "      <td>False</td>\n",
              "      <td>True</td>\n",
              "      <td>True</td>\n",
              "      <td>False</td>\n",
              "      <td>True</td>\n",
              "      <td>True</td>\n",
              "      <td>False</td>\n",
              "      <td>...</td>\n",
              "      <td>True</td>\n",
              "      <td>False</td>\n",
              "      <td>False</td>\n",
              "      <td>False</td>\n",
              "      <td>False</td>\n",
              "      <td>False</td>\n",
              "      <td>False</td>\n",
              "      <td>False</td>\n",
              "      <td>False</td>\n",
              "      <td>False</td>\n",
              "    </tr>\n",
              "    <tr>\n",
              "      <th>22133</th>\n",
              "      <td>False</td>\n",
              "      <td>False</td>\n",
              "      <td>True</td>\n",
              "      <td>False</td>\n",
              "      <td>False</td>\n",
              "      <td>True</td>\n",
              "      <td>False</td>\n",
              "      <td>False</td>\n",
              "      <td>False</td>\n",
              "      <td>False</td>\n",
              "      <td>...</td>\n",
              "      <td>False</td>\n",
              "      <td>False</td>\n",
              "      <td>False</td>\n",
              "      <td>False</td>\n",
              "      <td>False</td>\n",
              "      <td>False</td>\n",
              "      <td>False</td>\n",
              "      <td>False</td>\n",
              "      <td>False</td>\n",
              "      <td>False</td>\n",
              "    </tr>\n",
              "    <tr>\n",
              "      <th>22134</th>\n",
              "      <td>False</td>\n",
              "      <td>True</td>\n",
              "      <td>False</td>\n",
              "      <td>False</td>\n",
              "      <td>False</td>\n",
              "      <td>False</td>\n",
              "      <td>False</td>\n",
              "      <td>False</td>\n",
              "      <td>False</td>\n",
              "      <td>False</td>\n",
              "      <td>...</td>\n",
              "      <td>False</td>\n",
              "      <td>False</td>\n",
              "      <td>False</td>\n",
              "      <td>False</td>\n",
              "      <td>False</td>\n",
              "      <td>False</td>\n",
              "      <td>False</td>\n",
              "      <td>False</td>\n",
              "      <td>False</td>\n",
              "      <td>False</td>\n",
              "    </tr>\n",
              "    <tr>\n",
              "      <th>22135</th>\n",
              "      <td>False</td>\n",
              "      <td>False</td>\n",
              "      <td>False</td>\n",
              "      <td>False</td>\n",
              "      <td>False</td>\n",
              "      <td>True</td>\n",
              "      <td>False</td>\n",
              "      <td>False</td>\n",
              "      <td>False</td>\n",
              "      <td>False</td>\n",
              "      <td>...</td>\n",
              "      <td>False</td>\n",
              "      <td>True</td>\n",
              "      <td>False</td>\n",
              "      <td>False</td>\n",
              "      <td>False</td>\n",
              "      <td>False</td>\n",
              "      <td>False</td>\n",
              "      <td>False</td>\n",
              "      <td>False</td>\n",
              "      <td>False</td>\n",
              "    </tr>\n",
              "    <tr>\n",
              "      <th>22136</th>\n",
              "      <td>True</td>\n",
              "      <td>False</td>\n",
              "      <td>False</td>\n",
              "      <td>False</td>\n",
              "      <td>False</td>\n",
              "      <td>True</td>\n",
              "      <td>True</td>\n",
              "      <td>True</td>\n",
              "      <td>False</td>\n",
              "      <td>True</td>\n",
              "      <td>...</td>\n",
              "      <td>True</td>\n",
              "      <td>False</td>\n",
              "      <td>False</td>\n",
              "      <td>True</td>\n",
              "      <td>True</td>\n",
              "      <td>True</td>\n",
              "      <td>True</td>\n",
              "      <td>False</td>\n",
              "      <td>True</td>\n",
              "      <td>False</td>\n",
              "    </tr>\n",
              "  </tbody>\n",
              "</table>\n",
              "<p>22086 rows × 23 columns</p>\n",
              "</div>\n",
              "      <button class=\"colab-df-convert\" onclick=\"convertToInteractive('df-73f9949a-fe0c-47d3-9dce-7edc75883f29')\"\n",
              "              title=\"Convert this dataframe to an interactive table.\"\n",
              "              style=\"display:none;\">\n",
              "        \n",
              "  <svg xmlns=\"http://www.w3.org/2000/svg\" height=\"24px\"viewBox=\"0 0 24 24\"\n",
              "       width=\"24px\">\n",
              "    <path d=\"M0 0h24v24H0V0z\" fill=\"none\"/>\n",
              "    <path d=\"M18.56 5.44l.94 2.06.94-2.06 2.06-.94-2.06-.94-.94-2.06-.94 2.06-2.06.94zm-11 1L8.5 8.5l.94-2.06 2.06-.94-2.06-.94L8.5 2.5l-.94 2.06-2.06.94zm10 10l.94 2.06.94-2.06 2.06-.94-2.06-.94-.94-2.06-.94 2.06-2.06.94z\"/><path d=\"M17.41 7.96l-1.37-1.37c-.4-.4-.92-.59-1.43-.59-.52 0-1.04.2-1.43.59L10.3 9.45l-7.72 7.72c-.78.78-.78 2.05 0 2.83L4 21.41c.39.39.9.59 1.41.59.51 0 1.02-.2 1.41-.59l7.78-7.78 2.81-2.81c.8-.78.8-2.07 0-2.86zM5.41 20L4 18.59l7.72-7.72 1.47 1.35L5.41 20z\"/>\n",
              "  </svg>\n",
              "      </button>\n",
              "      \n",
              "  <style>\n",
              "    .colab-df-container {\n",
              "      display:flex;\n",
              "      flex-wrap:wrap;\n",
              "      gap: 12px;\n",
              "    }\n",
              "\n",
              "    .colab-df-convert {\n",
              "      background-color: #E8F0FE;\n",
              "      border: none;\n",
              "      border-radius: 50%;\n",
              "      cursor: pointer;\n",
              "      display: none;\n",
              "      fill: #1967D2;\n",
              "      height: 32px;\n",
              "      padding: 0 0 0 0;\n",
              "      width: 32px;\n",
              "    }\n",
              "\n",
              "    .colab-df-convert:hover {\n",
              "      background-color: #E2EBFA;\n",
              "      box-shadow: 0px 1px 2px rgba(60, 64, 67, 0.3), 0px 1px 3px 1px rgba(60, 64, 67, 0.15);\n",
              "      fill: #174EA6;\n",
              "    }\n",
              "\n",
              "    [theme=dark] .colab-df-convert {\n",
              "      background-color: #3B4455;\n",
              "      fill: #D2E3FC;\n",
              "    }\n",
              "\n",
              "    [theme=dark] .colab-df-convert:hover {\n",
              "      background-color: #434B5C;\n",
              "      box-shadow: 0px 1px 3px 1px rgba(0, 0, 0, 0.15);\n",
              "      filter: drop-shadow(0px 1px 2px rgba(0, 0, 0, 0.3));\n",
              "      fill: #FFFFFF;\n",
              "    }\n",
              "  </style>\n",
              "\n",
              "      <script>\n",
              "        const buttonEl =\n",
              "          document.querySelector('#df-73f9949a-fe0c-47d3-9dce-7edc75883f29 button.colab-df-convert');\n",
              "        buttonEl.style.display =\n",
              "          google.colab.kernel.accessAllowed ? 'block' : 'none';\n",
              "\n",
              "        async function convertToInteractive(key) {\n",
              "          const element = document.querySelector('#df-73f9949a-fe0c-47d3-9dce-7edc75883f29');\n",
              "          const dataTable =\n",
              "            await google.colab.kernel.invokeFunction('convertToInteractive',\n",
              "                                                     [key], {});\n",
              "          if (!dataTable) return;\n",
              "\n",
              "          const docLinkHtml = 'Like what you see? Visit the ' +\n",
              "            '<a target=\"_blank\" href=https://colab.research.google.com/notebooks/data_table.ipynb>data table notebook</a>'\n",
              "            + ' to learn more about interactive tables.';\n",
              "          element.innerHTML = '';\n",
              "          dataTable['output_type'] = 'display_data';\n",
              "          await google.colab.output.renderOutput(dataTable, element);\n",
              "          const docLink = document.createElement('div');\n",
              "          docLink.innerHTML = docLinkHtml;\n",
              "          element.appendChild(docLink);\n",
              "        }\n",
              "      </script>\n",
              "    </div>\n",
              "  </div>\n",
              "  "
            ]
          },
          "metadata": {},
          "execution_count": 44
        }
      ],
      "source": [
        "dev_type_df"
      ]
    },
    {
      "cell_type": "markdown",
      "metadata": {
        "id": "2EzJH9ygm4i4"
      },
      "source": [
        "The `dev_type_df` has one column for each option that can be selected as a response. If a respondent has chosen an option, the corresponding column's value is `True`. Otherwise, it is `False`.\n",
        "\n",
        "We can now use the column-wise totals to identify the most common roles.\n"
      ]
    },
    {
      "cell_type": "code",
      "execution_count": 45,
      "metadata": {
        "colab": {
          "base_uri": "https://localhost:8080/"
        },
        "id": "fzl5mgwam4i4",
        "outputId": "87a390c8-dc62-4b38-b9c2-63be1b3c3dba"
      },
      "outputs": [
        {
          "output_type": "execute_result",
          "data": {
            "text/plain": [
              "Developer, full-stack                            10657\n",
              "Developer, back-end                              10617\n",
              "Developer, front-end                              7195\n",
              "Developer, desktop or enterprise applications     4574\n",
              "Developer, mobile                                 3820\n",
              "DevOps specialist                                 2422\n",
              "Database administrator                            2317\n",
              "Designer                                          2049\n",
              "System administrator                              2020\n",
              "Developer, embedded applications or devices       1754\n",
              "Developer, QA or test                             1555\n",
              "Data or business analyst                          1497\n",
              "Data scientist or machine learning specialist     1454\n",
              "Engineer, data                                    1454\n",
              "Academic researcher                               1327\n",
              "Educator                                          1126\n",
              "Developer, game or graphics                       1049\n",
              "Engineering manager                               1036\n",
              "Product manager                                    981\n",
              "Scientist                                          799\n",
              "Engineer, site reliability                         753\n",
              "Senior executive/VP                                496\n",
              "Marketing or sales professional                    208\n",
              "dtype: int64"
            ]
          },
          "metadata": {},
          "execution_count": 45
        }
      ],
      "source": [
        "dev_type_totals = dev_type_df.sum().sort_values(ascending=False)\n",
        "dev_type_totals"
      ]
    },
    {
      "cell_type": "markdown",
      "metadata": {
        "id": "QncS5ewDm4i5"
      },
      "source": [
        "As one might expect, the most common roles include \"Developer\" in the name. "
      ]
    },
    {
      "cell_type": "markdown",
      "metadata": {
        "id": "gei00RdHm4i5"
      },
      "source": [
        "## Asking and Answering Questions\n",
        "\n",
        "Let's ask some specific questions and try to answer them using data frame operations and visualizations."
      ]
    },
    {
      "cell_type": "markdown",
      "metadata": {
        "id": "MmQbv1Bzm4i6"
      },
      "source": [
        "#### Q: What are the most popular programming languages in 2020? \n",
        "\n",
        "To answer, this we can use the `LanguageWorkedWith` column. Similar to `DevType`, respondents were allowed to choose multiple options here."
      ]
    },
    {
      "cell_type": "code",
      "execution_count": 46,
      "metadata": {
        "colab": {
          "base_uri": "https://localhost:8080/"
        },
        "id": "e0_RiI-Mm4i6",
        "outputId": "53dd82ef-6fa3-46bb-f35d-b35f971ae53d"
      },
      "outputs": [
        {
          "output_type": "execute_result",
          "data": {
            "text/plain": [
              "0                                   C#;HTML/CSS;JavaScript\n",
              "1                                         JavaScript;Swift\n",
              "2                                 Objective-C;Python;Swift\n",
              "3                                                      NaN\n",
              "4                                        HTML/CSS;Ruby;SQL\n",
              "                               ...                        \n",
              "22132    Assembly;Bash/Shell/PowerShell;C;C#;C++;HTML/C...\n",
              "22133                                                  NaN\n",
              "22134                     JavaScript;Python;SQL;TypeScript\n",
              "22135                                          Java;Python\n",
              "22136                 Bash/Shell/PowerShell;Java;Scala;SQL\n",
              "Name: LanguageWorkedWith, Length: 22086, dtype: object"
            ]
          },
          "metadata": {},
          "execution_count": 46
        }
      ],
      "source": [
        "survey_df.LanguageWorkedWith"
      ]
    },
    {
      "cell_type": "markdown",
      "metadata": {
        "id": "HQ7DOJ9im4i7"
      },
      "source": [
        "First, we'll split this column into a data frame containing a column of each language listed in the options."
      ]
    },
    {
      "cell_type": "code",
      "execution_count": 47,
      "metadata": {
        "id": "W0RW0FCfm4i7"
      },
      "outputs": [],
      "source": [
        "languages_worked_df = split_multicolumn(survey_df.LanguageWorkedWith)"
      ]
    },
    {
      "cell_type": "code",
      "execution_count": 48,
      "metadata": {
        "colab": {
          "base_uri": "https://localhost:8080/",
          "height": 505
        },
        "id": "q9hY1EBJm4i7",
        "outputId": "c81a93e9-9278-41d8-95a5-f04902368012"
      },
      "outputs": [
        {
          "output_type": "execute_result",
          "data": {
            "text/plain": [
              "          C#  HTML/CSS  JavaScript  Swift  Objective-C  Python   Ruby    SQL  \\\n",
              "0       True      True        True  False        False   False  False  False   \n",
              "1      False     False        True   True        False   False  False  False   \n",
              "2      False     False       False   True         True    True  False  False   \n",
              "3      False     False       False  False        False   False  False  False   \n",
              "4      False      True       False  False        False   False   True   True   \n",
              "...      ...       ...         ...    ...          ...     ...    ...    ...   \n",
              "22132   True      True        True  False        False    True  False   True   \n",
              "22133  False     False       False  False        False   False  False  False   \n",
              "22134  False     False        True  False        False    True  False   True   \n",
              "22135  False     False       False  False        False    True  False  False   \n",
              "22136  False     False       False  False        False   False  False   True   \n",
              "\n",
              "        Java    PHP  ...    VBA   Perl  Scala    C++     Go  Haskell   Rust  \\\n",
              "0      False  False  ...  False  False  False  False  False    False  False   \n",
              "1      False  False  ...  False  False  False  False  False    False  False   \n",
              "2      False  False  ...  False  False  False  False  False    False  False   \n",
              "3      False  False  ...  False  False  False  False  False    False  False   \n",
              "4      False  False  ...  False  False  False  False  False    False  False   \n",
              "...      ...    ...  ...    ...    ...    ...    ...    ...      ...    ...   \n",
              "22132   True   True  ...  False  False  False   True  False    False  False   \n",
              "22133  False  False  ...  False  False  False  False  False    False  False   \n",
              "22134  False  False  ...  False  False  False  False  False    False  False   \n",
              "22135   True  False  ...  False  False  False  False  False    False  False   \n",
              "22136   True  False  ...  False  False   True  False  False    False  False   \n",
              "\n",
              "        Dart  Julia  Assembly  \n",
              "0      False  False     False  \n",
              "1      False  False     False  \n",
              "2      False  False     False  \n",
              "3      False  False     False  \n",
              "4      False  False     False  \n",
              "...      ...    ...       ...  \n",
              "22132  False  False      True  \n",
              "22133  False  False     False  \n",
              "22134  False  False     False  \n",
              "22135  False  False     False  \n",
              "22136  False  False     False  \n",
              "\n",
              "[22086 rows x 25 columns]"
            ],
            "text/html": [
              "\n",
              "  <div id=\"df-02729d55-4157-4712-b41b-18422e76dea9\">\n",
              "    <div class=\"colab-df-container\">\n",
              "      <div>\n",
              "<style scoped>\n",
              "    .dataframe tbody tr th:only-of-type {\n",
              "        vertical-align: middle;\n",
              "    }\n",
              "\n",
              "    .dataframe tbody tr th {\n",
              "        vertical-align: top;\n",
              "    }\n",
              "\n",
              "    .dataframe thead th {\n",
              "        text-align: right;\n",
              "    }\n",
              "</style>\n",
              "<table border=\"1\" class=\"dataframe\">\n",
              "  <thead>\n",
              "    <tr style=\"text-align: right;\">\n",
              "      <th></th>\n",
              "      <th>C#</th>\n",
              "      <th>HTML/CSS</th>\n",
              "      <th>JavaScript</th>\n",
              "      <th>Swift</th>\n",
              "      <th>Objective-C</th>\n",
              "      <th>Python</th>\n",
              "      <th>Ruby</th>\n",
              "      <th>SQL</th>\n",
              "      <th>Java</th>\n",
              "      <th>PHP</th>\n",
              "      <th>...</th>\n",
              "      <th>VBA</th>\n",
              "      <th>Perl</th>\n",
              "      <th>Scala</th>\n",
              "      <th>C++</th>\n",
              "      <th>Go</th>\n",
              "      <th>Haskell</th>\n",
              "      <th>Rust</th>\n",
              "      <th>Dart</th>\n",
              "      <th>Julia</th>\n",
              "      <th>Assembly</th>\n",
              "    </tr>\n",
              "  </thead>\n",
              "  <tbody>\n",
              "    <tr>\n",
              "      <th>0</th>\n",
              "      <td>True</td>\n",
              "      <td>True</td>\n",
              "      <td>True</td>\n",
              "      <td>False</td>\n",
              "      <td>False</td>\n",
              "      <td>False</td>\n",
              "      <td>False</td>\n",
              "      <td>False</td>\n",
              "      <td>False</td>\n",
              "      <td>False</td>\n",
              "      <td>...</td>\n",
              "      <td>False</td>\n",
              "      <td>False</td>\n",
              "      <td>False</td>\n",
              "      <td>False</td>\n",
              "      <td>False</td>\n",
              "      <td>False</td>\n",
              "      <td>False</td>\n",
              "      <td>False</td>\n",
              "      <td>False</td>\n",
              "      <td>False</td>\n",
              "    </tr>\n",
              "    <tr>\n",
              "      <th>1</th>\n",
              "      <td>False</td>\n",
              "      <td>False</td>\n",
              "      <td>True</td>\n",
              "      <td>True</td>\n",
              "      <td>False</td>\n",
              "      <td>False</td>\n",
              "      <td>False</td>\n",
              "      <td>False</td>\n",
              "      <td>False</td>\n",
              "      <td>False</td>\n",
              "      <td>...</td>\n",
              "      <td>False</td>\n",
              "      <td>False</td>\n",
              "      <td>False</td>\n",
              "      <td>False</td>\n",
              "      <td>False</td>\n",
              "      <td>False</td>\n",
              "      <td>False</td>\n",
              "      <td>False</td>\n",
              "      <td>False</td>\n",
              "      <td>False</td>\n",
              "    </tr>\n",
              "    <tr>\n",
              "      <th>2</th>\n",
              "      <td>False</td>\n",
              "      <td>False</td>\n",
              "      <td>False</td>\n",
              "      <td>True</td>\n",
              "      <td>True</td>\n",
              "      <td>True</td>\n",
              "      <td>False</td>\n",
              "      <td>False</td>\n",
              "      <td>False</td>\n",
              "      <td>False</td>\n",
              "      <td>...</td>\n",
              "      <td>False</td>\n",
              "      <td>False</td>\n",
              "      <td>False</td>\n",
              "      <td>False</td>\n",
              "      <td>False</td>\n",
              "      <td>False</td>\n",
              "      <td>False</td>\n",
              "      <td>False</td>\n",
              "      <td>False</td>\n",
              "      <td>False</td>\n",
              "    </tr>\n",
              "    <tr>\n",
              "      <th>3</th>\n",
              "      <td>False</td>\n",
              "      <td>False</td>\n",
              "      <td>False</td>\n",
              "      <td>False</td>\n",
              "      <td>False</td>\n",
              "      <td>False</td>\n",
              "      <td>False</td>\n",
              "      <td>False</td>\n",
              "      <td>False</td>\n",
              "      <td>False</td>\n",
              "      <td>...</td>\n",
              "      <td>False</td>\n",
              "      <td>False</td>\n",
              "      <td>False</td>\n",
              "      <td>False</td>\n",
              "      <td>False</td>\n",
              "      <td>False</td>\n",
              "      <td>False</td>\n",
              "      <td>False</td>\n",
              "      <td>False</td>\n",
              "      <td>False</td>\n",
              "    </tr>\n",
              "    <tr>\n",
              "      <th>4</th>\n",
              "      <td>False</td>\n",
              "      <td>True</td>\n",
              "      <td>False</td>\n",
              "      <td>False</td>\n",
              "      <td>False</td>\n",
              "      <td>False</td>\n",
              "      <td>True</td>\n",
              "      <td>True</td>\n",
              "      <td>False</td>\n",
              "      <td>False</td>\n",
              "      <td>...</td>\n",
              "      <td>False</td>\n",
              "      <td>False</td>\n",
              "      <td>False</td>\n",
              "      <td>False</td>\n",
              "      <td>False</td>\n",
              "      <td>False</td>\n",
              "      <td>False</td>\n",
              "      <td>False</td>\n",
              "      <td>False</td>\n",
              "      <td>False</td>\n",
              "    </tr>\n",
              "    <tr>\n",
              "      <th>...</th>\n",
              "      <td>...</td>\n",
              "      <td>...</td>\n",
              "      <td>...</td>\n",
              "      <td>...</td>\n",
              "      <td>...</td>\n",
              "      <td>...</td>\n",
              "      <td>...</td>\n",
              "      <td>...</td>\n",
              "      <td>...</td>\n",
              "      <td>...</td>\n",
              "      <td>...</td>\n",
              "      <td>...</td>\n",
              "      <td>...</td>\n",
              "      <td>...</td>\n",
              "      <td>...</td>\n",
              "      <td>...</td>\n",
              "      <td>...</td>\n",
              "      <td>...</td>\n",
              "      <td>...</td>\n",
              "      <td>...</td>\n",
              "      <td>...</td>\n",
              "    </tr>\n",
              "    <tr>\n",
              "      <th>22132</th>\n",
              "      <td>True</td>\n",
              "      <td>True</td>\n",
              "      <td>True</td>\n",
              "      <td>False</td>\n",
              "      <td>False</td>\n",
              "      <td>True</td>\n",
              "      <td>False</td>\n",
              "      <td>True</td>\n",
              "      <td>True</td>\n",
              "      <td>True</td>\n",
              "      <td>...</td>\n",
              "      <td>False</td>\n",
              "      <td>False</td>\n",
              "      <td>False</td>\n",
              "      <td>True</td>\n",
              "      <td>False</td>\n",
              "      <td>False</td>\n",
              "      <td>False</td>\n",
              "      <td>False</td>\n",
              "      <td>False</td>\n",
              "      <td>True</td>\n",
              "    </tr>\n",
              "    <tr>\n",
              "      <th>22133</th>\n",
              "      <td>False</td>\n",
              "      <td>False</td>\n",
              "      <td>False</td>\n",
              "      <td>False</td>\n",
              "      <td>False</td>\n",
              "      <td>False</td>\n",
              "      <td>False</td>\n",
              "      <td>False</td>\n",
              "      <td>False</td>\n",
              "      <td>False</td>\n",
              "      <td>...</td>\n",
              "      <td>False</td>\n",
              "      <td>False</td>\n",
              "      <td>False</td>\n",
              "      <td>False</td>\n",
              "      <td>False</td>\n",
              "      <td>False</td>\n",
              "      <td>False</td>\n",
              "      <td>False</td>\n",
              "      <td>False</td>\n",
              "      <td>False</td>\n",
              "    </tr>\n",
              "    <tr>\n",
              "      <th>22134</th>\n",
              "      <td>False</td>\n",
              "      <td>False</td>\n",
              "      <td>True</td>\n",
              "      <td>False</td>\n",
              "      <td>False</td>\n",
              "      <td>True</td>\n",
              "      <td>False</td>\n",
              "      <td>True</td>\n",
              "      <td>False</td>\n",
              "      <td>False</td>\n",
              "      <td>...</td>\n",
              "      <td>False</td>\n",
              "      <td>False</td>\n",
              "      <td>False</td>\n",
              "      <td>False</td>\n",
              "      <td>False</td>\n",
              "      <td>False</td>\n",
              "      <td>False</td>\n",
              "      <td>False</td>\n",
              "      <td>False</td>\n",
              "      <td>False</td>\n",
              "    </tr>\n",
              "    <tr>\n",
              "      <th>22135</th>\n",
              "      <td>False</td>\n",
              "      <td>False</td>\n",
              "      <td>False</td>\n",
              "      <td>False</td>\n",
              "      <td>False</td>\n",
              "      <td>True</td>\n",
              "      <td>False</td>\n",
              "      <td>False</td>\n",
              "      <td>True</td>\n",
              "      <td>False</td>\n",
              "      <td>...</td>\n",
              "      <td>False</td>\n",
              "      <td>False</td>\n",
              "      <td>False</td>\n",
              "      <td>False</td>\n",
              "      <td>False</td>\n",
              "      <td>False</td>\n",
              "      <td>False</td>\n",
              "      <td>False</td>\n",
              "      <td>False</td>\n",
              "      <td>False</td>\n",
              "    </tr>\n",
              "    <tr>\n",
              "      <th>22136</th>\n",
              "      <td>False</td>\n",
              "      <td>False</td>\n",
              "      <td>False</td>\n",
              "      <td>False</td>\n",
              "      <td>False</td>\n",
              "      <td>False</td>\n",
              "      <td>False</td>\n",
              "      <td>True</td>\n",
              "      <td>True</td>\n",
              "      <td>False</td>\n",
              "      <td>...</td>\n",
              "      <td>False</td>\n",
              "      <td>False</td>\n",
              "      <td>True</td>\n",
              "      <td>False</td>\n",
              "      <td>False</td>\n",
              "      <td>False</td>\n",
              "      <td>False</td>\n",
              "      <td>False</td>\n",
              "      <td>False</td>\n",
              "      <td>False</td>\n",
              "    </tr>\n",
              "  </tbody>\n",
              "</table>\n",
              "<p>22086 rows × 25 columns</p>\n",
              "</div>\n",
              "      <button class=\"colab-df-convert\" onclick=\"convertToInteractive('df-02729d55-4157-4712-b41b-18422e76dea9')\"\n",
              "              title=\"Convert this dataframe to an interactive table.\"\n",
              "              style=\"display:none;\">\n",
              "        \n",
              "  <svg xmlns=\"http://www.w3.org/2000/svg\" height=\"24px\"viewBox=\"0 0 24 24\"\n",
              "       width=\"24px\">\n",
              "    <path d=\"M0 0h24v24H0V0z\" fill=\"none\"/>\n",
              "    <path d=\"M18.56 5.44l.94 2.06.94-2.06 2.06-.94-2.06-.94-.94-2.06-.94 2.06-2.06.94zm-11 1L8.5 8.5l.94-2.06 2.06-.94-2.06-.94L8.5 2.5l-.94 2.06-2.06.94zm10 10l.94 2.06.94-2.06 2.06-.94-2.06-.94-.94-2.06-.94 2.06-2.06.94z\"/><path d=\"M17.41 7.96l-1.37-1.37c-.4-.4-.92-.59-1.43-.59-.52 0-1.04.2-1.43.59L10.3 9.45l-7.72 7.72c-.78.78-.78 2.05 0 2.83L4 21.41c.39.39.9.59 1.41.59.51 0 1.02-.2 1.41-.59l7.78-7.78 2.81-2.81c.8-.78.8-2.07 0-2.86zM5.41 20L4 18.59l7.72-7.72 1.47 1.35L5.41 20z\"/>\n",
              "  </svg>\n",
              "      </button>\n",
              "      \n",
              "  <style>\n",
              "    .colab-df-container {\n",
              "      display:flex;\n",
              "      flex-wrap:wrap;\n",
              "      gap: 12px;\n",
              "    }\n",
              "\n",
              "    .colab-df-convert {\n",
              "      background-color: #E8F0FE;\n",
              "      border: none;\n",
              "      border-radius: 50%;\n",
              "      cursor: pointer;\n",
              "      display: none;\n",
              "      fill: #1967D2;\n",
              "      height: 32px;\n",
              "      padding: 0 0 0 0;\n",
              "      width: 32px;\n",
              "    }\n",
              "\n",
              "    .colab-df-convert:hover {\n",
              "      background-color: #E2EBFA;\n",
              "      box-shadow: 0px 1px 2px rgba(60, 64, 67, 0.3), 0px 1px 3px 1px rgba(60, 64, 67, 0.15);\n",
              "      fill: #174EA6;\n",
              "    }\n",
              "\n",
              "    [theme=dark] .colab-df-convert {\n",
              "      background-color: #3B4455;\n",
              "      fill: #D2E3FC;\n",
              "    }\n",
              "\n",
              "    [theme=dark] .colab-df-convert:hover {\n",
              "      background-color: #434B5C;\n",
              "      box-shadow: 0px 1px 3px 1px rgba(0, 0, 0, 0.15);\n",
              "      filter: drop-shadow(0px 1px 2px rgba(0, 0, 0, 0.3));\n",
              "      fill: #FFFFFF;\n",
              "    }\n",
              "  </style>\n",
              "\n",
              "      <script>\n",
              "        const buttonEl =\n",
              "          document.querySelector('#df-02729d55-4157-4712-b41b-18422e76dea9 button.colab-df-convert');\n",
              "        buttonEl.style.display =\n",
              "          google.colab.kernel.accessAllowed ? 'block' : 'none';\n",
              "\n",
              "        async function convertToInteractive(key) {\n",
              "          const element = document.querySelector('#df-02729d55-4157-4712-b41b-18422e76dea9');\n",
              "          const dataTable =\n",
              "            await google.colab.kernel.invokeFunction('convertToInteractive',\n",
              "                                                     [key], {});\n",
              "          if (!dataTable) return;\n",
              "\n",
              "          const docLinkHtml = 'Like what you see? Visit the ' +\n",
              "            '<a target=\"_blank\" href=https://colab.research.google.com/notebooks/data_table.ipynb>data table notebook</a>'\n",
              "            + ' to learn more about interactive tables.';\n",
              "          element.innerHTML = '';\n",
              "          dataTable['output_type'] = 'display_data';\n",
              "          await google.colab.output.renderOutput(dataTable, element);\n",
              "          const docLink = document.createElement('div');\n",
              "          docLink.innerHTML = docLinkHtml;\n",
              "          element.appendChild(docLink);\n",
              "        }\n",
              "      </script>\n",
              "    </div>\n",
              "  </div>\n",
              "  "
            ]
          },
          "metadata": {},
          "execution_count": 48
        }
      ],
      "source": [
        "languages_worked_df"
      ]
    },
    {
      "cell_type": "markdown",
      "metadata": {
        "id": "iL8YNqr_m4i8"
      },
      "source": [
        "It appears that a total of 25 languages were included among the options. Let's aggregate these to identify the percentage of respondents who selected each language.\n"
      ]
    },
    {
      "cell_type": "code",
      "execution_count": 49,
      "metadata": {
        "colab": {
          "base_uri": "https://localhost:8080/"
        },
        "id": "oH9-TMkVm4i-",
        "outputId": "d98f0e7a-558a-42d8-84ce-356b3c68a752"
      },
      "outputs": [
        {
          "output_type": "execute_result",
          "data": {
            "text/plain": [
              "JavaScript               67.662773\n",
              "HTML/CSS                 62.143439\n",
              "SQL                      54.808476\n",
              "Python                   42.502037\n",
              "Java                     39.477497\n",
              "Bash/Shell/PowerShell    33.170334\n",
              "C#                       32.296477\n",
              "TypeScript               26.102508\n",
              "PHP                      25.310151\n",
              "C++                      21.891696\n",
              "C                        19.935706\n",
              "Go                        8.530291\n",
              "Kotlin                    8.086571\n",
              "Ruby                      6.945576\n",
              "Swift                     6.320746\n",
              "VBA                       6.012859\n",
              "Assembly                  5.646111\n",
              "R                         5.428778\n",
              "Objective-C               4.437200\n",
              "Dart                      3.825953\n",
              "Rust                      3.585982\n",
              "Scala                     3.282622\n",
              "Perl                      2.807208\n",
              "Haskell                   1.924296\n",
              "Julia                     0.810468\n",
              "dtype: float64"
            ]
          },
          "metadata": {},
          "execution_count": 49
        }
      ],
      "source": [
        "languages_worked_percentages = languages_worked_df.mean().sort_values(ascending=False) * 100\n",
        "languages_worked_percentages"
      ]
    },
    {
      "cell_type": "markdown",
      "metadata": {
        "id": "PSdDPGjsm4i-"
      },
      "source": [
        "We can plot this information using a horizontal bar chart."
      ]
    },
    {
      "cell_type": "code",
      "execution_count": 50,
      "metadata": {
        "colab": {
          "base_uri": "https://localhost:8080/",
          "height": 742
        },
        "id": "S_6ZKGLym4i_",
        "outputId": "27e865d0-1d56-4fbf-c38a-868f13516f0e"
      },
      "outputs": [
        {
          "output_type": "display_data",
          "data": {
            "text/plain": [
              "<Figure size 864x864 with 1 Axes>"
            ],
            "image/png": "[encoded data removed]"
          },
          "metadata": {
            "needs_background": "light"
          }
        }
      ],
      "source": [
        "plt.figure(figsize=(12, 12))\n",
        "sns.barplot(x=languages_worked_percentages, y=languages_worked_percentages.index)\n",
        "plt.title(\"Languages used in the past year\");\n",
        "plt.xlabel('count');"
      ]
    },
    {
      "cell_type": "markdown",
      "metadata": {
        "id": "-Tgyr5lcm4jA"
      },
      "source": [
        "Perhaps unsurprisingly, Javascript & HTML/CSS comes out at the top as web development is one of today's most sought skills. It also happens to be one of the easiest to get started. SQL is necessary for working with relational databases, so it's no surprise that most programmers work with SQL regularly. Python seems to be the popular choice for other forms of development, beating out Java, which was the industry standard for server & application development for over two decades."
      ]
    },
    {
      "cell_type": "markdown",
      "metadata": {
        "id": "fCQCtcH1m4jA"
      },
      "source": [
        "#### Q: Which languages are the most people interested to learn over the next year?\n",
        "\n",
        "For this, we can use the `LanguageDesireNextYear` column, with similar processing as the previous one."
      ]
    },
    {
      "cell_type": "code",
      "execution_count": 53,
      "metadata": {
        "colab": {
          "base_uri": "https://localhost:8080/"
        },
        "id": "bL0TfiWfm4jB",
        "outputId": "45d8ec2d-4a56-4ecc-86bb-7560e8aa4cf8"
      },
      "outputs": [
        {
          "output_type": "execute_result",
          "data": {
            "text/plain": [
              "JavaScript               45.499411\n",
              "Python                   44.485194\n",
              "HTML/CSS                 36.335235\n",
              "SQL                      35.207824\n",
              "TypeScript               30.064294\n",
              "C#                       25.124513\n",
              "Java                     22.543693\n",
              "Go                       21.792085\n",
              "Bash/Shell/PowerShell    20.397537\n",
              "Rust                     17.200942\n",
              "Kotlin                   16.232002\n",
              "C++                      15.937698\n",
              "PHP                      11.690664\n",
              "C                         9.952006\n",
              "Swift                     9.626007\n",
              "Dart                      8.145431\n",
              "Ruby                      6.841438\n",
              "R                         6.823327\n",
              "Scala                     5.478584\n",
              "Haskell                   4.672643\n",
              "Assembly                  3.825953\n",
              "Julia                     2.730236\n",
              "Objective-C               2.626098\n",
              "Perl                      1.729602\n",
              "VBA                       1.629992\n",
              "dtype: float64"
            ]
          },
          "metadata": {},
          "execution_count": 53
        }
      ],
      "source": [
        "languages_interested_df = split_multicolumn(survey_df.LanguageDesireNextYear)\n",
        "languages_interested_percentages = languages_interested_df.mean().sort_values(ascending=False) * 100\n",
        "languages_interested_percentages"
      ]
    },
    {
      "cell_type": "code",
      "execution_count": 54,
      "metadata": {
        "scrolled": false,
        "colab": {
          "base_uri": "https://localhost:8080/",
          "height": 0
        },
        "id": "1nul7iTum4jB",
        "outputId": "ce599fc8-bab6-44f3-aa8a-2b2432faca1a"
      },
      "outputs": [
        {
          "output_type": "display_data",
          "data": {
            "text/plain": [
              "<Figure size 864x864 with 1 Axes>"
            ],
            "image/png": "[encoded data removed]"
          },
          "metadata": {
            "needs_background": "light"
          }
        }
      ],
      "source": [
        "plt.figure(figsize=(12, 12))\n",
        "sns.barplot(x=languages_interested_percentages, y=languages_interested_percentages.index)\n",
        "plt.title(\"Languages people are intersted in learning over the next year\");\n",
        "plt.xlabel('count');"
      ]
    },
    {
      "cell_type": "markdown",
      "metadata": {
        "id": "NuyP8Mhwm4jC"
      },
      "source": [
        "Once again, it's not surprising that Python is the language most people are interested in learning - since it is an easy-to-learn general-purpose programming language well suited for a variety of domains: application development, numerical computing, data analysis, machine learning, big data, cloud automation, web scraping, scripting, etc. We're using Python for this very analysis, so we're in good company!\n",
        "\n",
        "**Exercises**: Repeat the exercises from the previous question, replacing \"most common languages\" with \"languages people are interested in learning/using.\""
      ]
    },
    {
      "cell_type": "markdown",
      "metadata": {
        "id": "_HqFC1x3m4jC"
      },
      "source": [
        "#### Q:  Which are the most loved languages, i.e., a high percentage of people who have used the language want to continue learning & using it over the next year?\n",
        "\n",
        "While this question may seem tricky at first, it's straightforward to solve using Pandas array operations."
      ]
    },
    {
      "cell_type": "code",
      "execution_count": 55,
      "metadata": {
        "id": "NQ4QbX7fm4jD"
      },
      "outputs": [],
      "source": [
        "languages_loved_df = languages_worked_df & languages_interested_df"
      ]
    },
    {
      "cell_type": "code",
      "execution_count": 56,
      "metadata": {
        "id": "I26WxgEmm4jD"
      },
      "outputs": [],
      "source": [
        "languages_loved_percentages = (languages_loved_df.sum() * 100/ languages_worked_df.sum()).sort_values(ascending=False)"
      ]
    },
    {
      "cell_type": "code",
      "execution_count": 57,
      "metadata": {
        "colab": {
          "base_uri": "https://localhost:8080/",
          "height": 0
        },
        "id": "iTHv9h1Wm4jE",
        "outputId": "47ca3a9b-6059-4509-b699-c3adde171dd0"
      },
      "outputs": [
        {
          "output_type": "display_data",
          "data": {
            "text/plain": [
              "<Figure size 864x864 with 1 Axes>"
            ],
            "image/png": "[encoded data removed]"
          },
          "metadata": {
            "needs_background": "light"
          }
        }
      ],
      "source": [
        "plt.figure(figsize=(12, 12))\n",
        "sns.barplot(x=languages_loved_percentages, y=languages_loved_percentages.index)\n",
        "plt.title(\"Most loved languages\");\n",
        "plt.xlabel('count');"
      ]
    },
    {
      "cell_type": "markdown",
      "metadata": {
        "id": "q09JiTb0m4jF"
      },
      "source": [
        "Rust has been StackOverflow's most-loved language for four years in a row.The second most-loved language is TypeScript, a popular alternative to JavaScript for web development.\n",
        "\n",
        "Python features at number 3, despite already being one of the most widely-used languages in the world. Python has a solid foundation, is easy to learn & use, has a large ecosystem of domain-specific libraries, and a massive worldwide community.\n",
        "\n"
      ]
    },
    {
      "cell_type": "markdown",
      "metadata": {
        "id": "n5R6oVvhm4jF"
      },
      "source": [
        "#### Q: In which countries do developers work the highest number of hours per week? Consider countries with more than 250 responses only.\n",
        "\n",
        "To answer this question, we'll need to use the `groupby` data frame method to aggregate the rows for each country. We'll also need to filter the results to only include the countries with more than 250 respondents."
      ]
    },
    {
      "cell_type": "code",
      "execution_count": 58,
      "metadata": {
        "id": "O_NOl9sUm4jG"
      },
      "outputs": [],
      "source": [
        "countries_df = survey_df.groupby('Country')[['WorkWeekHrs']].mean().sort_values('WorkWeekHrs', ascending=False)"
      ]
    },
    {
      "cell_type": "code",
      "execution_count": 59,
      "metadata": {
        "id": "CFpqO4xqm4jG"
      },
      "outputs": [],
      "source": [
        "high_response_countries_df = countries_df.loc[survey_df.Country.value_counts() > 250].head(15)"
      ]
    },
    {
      "cell_type": "code",
      "execution_count": 60,
      "metadata": {
        "colab": {
          "base_uri": "https://localhost:8080/",
          "height": 551
        },
        "id": "HFQglw-Am4jH",
        "outputId": "de3c5271-0708-43ca-c769-7ad631e4aa20"
      },
      "outputs": [
        {
          "output_type": "execute_result",
          "data": {
            "text/plain": [
              "                    WorkWeekHrs\n",
              "Country                        \n",
              "United States         41.778359\n",
              "Turkey                40.709135\n",
              "Canada                40.167669\n",
              "India                 40.160095\n",
              "Australia             40.102241\n",
              "Sweden                40.027650\n",
              "Poland                39.642442\n",
              "Italy                 39.339450\n",
              "Russian Federation    39.333333\n",
              "Spain                 39.198630\n",
              "Germany               38.955146\n",
              "France                38.822500\n",
              "Netherlands           38.799451\n",
              "United Kingdom        38.766533\n",
              "Brazil                38.485944"
            ],
            "text/html": [
              "\n",
              "  <div id=\"df-5be41d34-c6a3-46f4-9539-6124c8233833\">\n",
              "    <div class=\"colab-df-container\">\n",
              "      <div>\n",
              "<style scoped>\n",
              "    .dataframe tbody tr th:only-of-type {\n",
              "        vertical-align: middle;\n",
              "    }\n",
              "\n",
              "    .dataframe tbody tr th {\n",
              "        vertical-align: top;\n",
              "    }\n",
              "\n",
              "    .dataframe thead th {\n",
              "        text-align: right;\n",
              "    }\n",
              "</style>\n",
              "<table border=\"1\" class=\"dataframe\">\n",
              "  <thead>\n",
              "    <tr style=\"text-align: right;\">\n",
              "      <th></th>\n",
              "      <th>WorkWeekHrs</th>\n",
              "    </tr>\n",
              "    <tr>\n",
              "      <th>Country</th>\n",
              "      <th></th>\n",
              "    </tr>\n",
              "  </thead>\n",
              "  <tbody>\n",
              "    <tr>\n",
              "      <th>United States</th>\n",
              "      <td>41.778359</td>\n",
              "    </tr>\n",
              "    <tr>\n",
              "      <th>Turkey</th>\n",
              "      <td>40.709135</td>\n",
              "    </tr>\n",
              "    <tr>\n",
              "      <th>Canada</th>\n",
              "      <td>40.167669</td>\n",
              "    </tr>\n",
              "    <tr>\n",
              "      <th>India</th>\n",
              "      <td>40.160095</td>\n",
              "    </tr>\n",
              "    <tr>\n",
              "      <th>Australia</th>\n",
              "      <td>40.102241</td>\n",
              "    </tr>\n",
              "    <tr>\n",
              "      <th>Sweden</th>\n",
              "      <td>40.027650</td>\n",
              "    </tr>\n",
              "    <tr>\n",
              "      <th>Poland</th>\n",
              "      <td>39.642442</td>\n",
              "    </tr>\n",
              "    <tr>\n",
              "      <th>Italy</th>\n",
              "      <td>39.339450</td>\n",
              "    </tr>\n",
              "    <tr>\n",
              "      <th>Russian Federation</th>\n",
              "      <td>39.333333</td>\n",
              "    </tr>\n",
              "    <tr>\n",
              "      <th>Spain</th>\n",
              "      <td>39.198630</td>\n",
              "    </tr>\n",
              "    <tr>\n",
              "      <th>Germany</th>\n",
              "      <td>38.955146</td>\n",
              "    </tr>\n",
              "    <tr>\n",
              "      <th>France</th>\n",
              "      <td>38.822500</td>\n",
              "    </tr>\n",
              "    <tr>\n",
              "      <th>Netherlands</th>\n",
              "      <td>38.799451</td>\n",
              "    </tr>\n",
              "    <tr>\n",
              "      <th>United Kingdom</th>\n",
              "      <td>38.766533</td>\n",
              "    </tr>\n",
              "    <tr>\n",
              "      <th>Brazil</th>\n",
              "      <td>38.485944</td>\n",
              "    </tr>\n",
              "  </tbody>\n",
              "</table>\n",
              "</div>\n",
              "      <button class=\"colab-df-convert\" onclick=\"convertToInteractive('df-5be41d34-c6a3-46f4-9539-6124c8233833')\"\n",
              "              title=\"Convert this dataframe to an interactive table.\"\n",
              "              style=\"display:none;\">\n",
              "        \n",
              "  <svg xmlns=\"http://www.w3.org/2000/svg\" height=\"24px\"viewBox=\"0 0 24 24\"\n",
              "       width=\"24px\">\n",
              "    <path d=\"M0 0h24v24H0V0z\" fill=\"none\"/>\n",
              "    <path d=\"M18.56 5.44l.94 2.06.94-2.06 2.06-.94-2.06-.94-.94-2.06-.94 2.06-2.06.94zm-11 1L8.5 8.5l.94-2.06 2.06-.94-2.06-.94L8.5 2.5l-.94 2.06-2.06.94zm10 10l.94 2.06.94-2.06 2.06-.94-2.06-.94-.94-2.06-.94 2.06-2.06.94z\"/><path d=\"M17.41 7.96l-1.37-1.37c-.4-.4-.92-.59-1.43-.59-.52 0-1.04.2-1.43.59L10.3 9.45l-7.72 7.72c-.78.78-.78 2.05 0 2.83L4 21.41c.39.39.9.59 1.41.59.51 0 1.02-.2 1.41-.59l7.78-7.78 2.81-2.81c.8-.78.8-2.07 0-2.86zM5.41 20L4 18.59l7.72-7.72 1.47 1.35L5.41 20z\"/>\n",
              "  </svg>\n",
              "      </button>\n",
              "      \n",
              "  <style>\n",
              "    .colab-df-container {\n",
              "      display:flex;\n",
              "      flex-wrap:wrap;\n",
              "      gap: 12px;\n",
              "    }\n",
              "\n",
              "    .colab-df-convert {\n",
              "      background-color: #E8F0FE;\n",
              "      border: none;\n",
              "      border-radius: 50%;\n",
              "      cursor: pointer;\n",
              "      display: none;\n",
              "      fill: #1967D2;\n",
              "      height: 32px;\n",
              "      padding: 0 0 0 0;\n",
              "      width: 32px;\n",
              "    }\n",
              "\n",
              "    .colab-df-convert:hover {\n",
              "      background-color: #E2EBFA;\n",
              "      box-shadow: 0px 1px 2px rgba(60, 64, 67, 0.3), 0px 1px 3px 1px rgba(60, 64, 67, 0.15);\n",
              "      fill: #174EA6;\n",
              "    }\n",
              "\n",
              "    [theme=dark] .colab-df-convert {\n",
              "      background-color: #3B4455;\n",
              "      fill: #D2E3FC;\n",
              "    }\n",
              "\n",
              "    [theme=dark] .colab-df-convert:hover {\n",
              "      background-color: #434B5C;\n",
              "      box-shadow: 0px 1px 3px 1px rgba(0, 0, 0, 0.15);\n",
              "      filter: drop-shadow(0px 1px 2px rgba(0, 0, 0, 0.3));\n",
              "      fill: #FFFFFF;\n",
              "    }\n",
              "  </style>\n",
              "\n",
              "      <script>\n",
              "        const buttonEl =\n",
              "          document.querySelector('#df-5be41d34-c6a3-46f4-9539-6124c8233833 button.colab-df-convert');\n",
              "        buttonEl.style.display =\n",
              "          google.colab.kernel.accessAllowed ? 'block' : 'none';\n",
              "\n",
              "        async function convertToInteractive(key) {\n",
              "          const element = document.querySelector('#df-5be41d34-c6a3-46f4-9539-6124c8233833');\n",
              "          const dataTable =\n",
              "            await google.colab.kernel.invokeFunction('convertToInteractive',\n",
              "                                                     [key], {});\n",
              "          if (!dataTable) return;\n",
              "\n",
              "          const docLinkHtml = 'Like what you see? Visit the ' +\n",
              "            '<a target=\"_blank\" href=https://colab.research.google.com/notebooks/data_table.ipynb>data table notebook</a>'\n",
              "            + ' to learn more about interactive tables.';\n",
              "          element.innerHTML = '';\n",
              "          dataTable['output_type'] = 'display_data';\n",
              "          await google.colab.output.renderOutput(dataTable, element);\n",
              "          const docLink = document.createElement('div');\n",
              "          docLink.innerHTML = docLinkHtml;\n",
              "          element.appendChild(docLink);\n",
              "        }\n",
              "      </script>\n",
              "    </div>\n",
              "  </div>\n",
              "  "
            ]
          },
          "metadata": {},
          "execution_count": 60
        }
      ],
      "source": [
        "high_response_countries_df"
      ]
    },
    {
      "cell_type": "markdown",
      "metadata": {
        "id": "KEwNY7EYm4jH"
      },
      "source": [
        "The Asian countries like Iran, China, and Israel have the highest working hours, followed by the United States. However, there isn't too much variation overall, and the average working hours seem to be around 40 hours per week."
      ]
    }
  ],
  "metadata": {
    "kernelspec": {
      "display_name": "Python 3",
      "language": "python",
      "name": "python3"
    },
    "language_info": {
      "codemirror_mode": {
        "name": "ipython",
        "version": 3
      },
      "file_extension": ".py",
      "mimetype": "text/x-python",
      "name": "python",
      "nbconvert_exporter": "python",
      "pygments_lexer": "ipython3",
      "version": "3.8.6"
    },
    "colab": {
      "name": "python-stackoverflow-survey.ipynb",
      "provenance": [],
      "collapsed_sections": [
        "fCQCtcH1m4jA",
        "_HqFC1x3m4jC"
      ]
    }
  },
  "nbformat": 4,
  "nbformat_minor": 0
}